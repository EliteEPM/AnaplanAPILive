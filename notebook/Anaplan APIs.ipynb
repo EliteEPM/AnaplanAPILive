{
 "cells": [
  {
   "cell_type": "markdown",
   "metadata": {},
   "source": [
    "# Anaplan 2.0 API requests"
   ]
  },
  {
   "cell_type": "markdown",
   "metadata": {
    "heading_collapsed": true
   },
   "source": [
    "### PROPERTY OF LEET EPM PRIVATE LIMITED  \n",
    "### Not for general distribution  \n",
    "### Please contact anirudh@eliteepm.com  "
   ]
  },
  {
   "cell_type": "markdown",
   "metadata": {
    "heading_collapsed": true
   },
   "source": [
    "## SECTION I: Authentication and OAuth 2.0 API  \n",
    "[Official Documentation Link for Authentication](https://anaplanauthentication.docs.apiary.io/)  \n",
    "[Official Documentation Link for OAuth 2.0](https://anaplanoauth2service.docs.apiary.io)"
   ]
  },
  {
   "cell_type": "markdown",
   "metadata": {
    "heading_collapsed": true,
    "hidden": true
   },
   "source": [
    "#### Expand this to view decision flow for Authentication Type"
   ]
  },
  {
   "cell_type": "markdown",
   "metadata": {
    "hidden": true
   },
   "source": [
    "![Alt text](notebook_images/Anaplan_Authentication_Flow_2_50.png)"
   ]
  },
  {
   "cell_type": "markdown",
   "metadata": {
    "heading_collapsed": true,
    "hidden": true
   },
   "source": [
    "### 1. Basic Authentication"
   ]
  },
  {
   "cell_type": "markdown",
   "metadata": {
    "hidden": true
   },
   "source": [
    "Store credentials in a text file. Credentials format should be username:password  \n",
    "Use this for basic authentication"
   ]
  },
  {
   "cell_type": "markdown",
   "metadata": {
    "heading_collapsed": true,
    "hidden": true
   },
   "source": [
    "#### Load Credentials"
   ]
  },
  {
   "cell_type": "code",
   "execution_count": null,
   "metadata": {
    "hidden": true
   },
   "outputs": [],
   "source": [
    "c = open(\"credentials.txt\",'r',newline=None)\n",
    "r = c.readlines()\n",
    "fullCreds = r[0]\n",
    "username = fullCreds[0:(fullCreds.find(':'))]\n",
    "print(\"↓↓ Ready ↓↓\")"
   ]
  },
  {
   "cell_type": "markdown",
   "metadata": {
    "heading_collapsed": true,
    "hidden": true
   },
   "source": [
    "#### Ready and validate credentials - Basic"
   ]
  },
  {
   "cell_type": "code",
   "execution_count": null,
   "metadata": {
    "hidden": true
   },
   "outputs": [],
   "source": [
    "import base64\n",
    "import requests\n",
    "import json\n",
    "\n",
    "# API v2.0 steps are:\n",
    "# 1. encode b64 string of \"Basic username:password\"\n",
    "# 2. pass 1. to auth.anaplan.com to get auth token\n",
    "# 3. token is generated in json under tokenInfo -> tokenValue\n",
    "# 4. Authorization header is ready; 'AnaplanAuthToken tokenValue'\n",
    "# 5. Validate auth\n",
    "\n",
    "cred_string = {'Authorization':'Basic ' + base64.b64encode((fullCreds).encode('utf-8')).decode('utf-8')}\n",
    "print(cred_string)\n",
    "print(\"↓↓ Passing to receive token ↓↓\")\n",
    "\n",
    "#Fetch token\n",
    "\n",
    "fetchToken_url = 'https://auth.anaplan.com/token/authenticate'\n",
    "request = requests.post(fetchToken_url, headers=cred_string)\n",
    "fullTokenjson = json.loads(request.text)\n",
    "write = request.text\n",
    "auth = 'AnaplanAuthToken ' + fullTokenjson['tokenInfo']['tokenValue']\n",
    "print(auth)\n",
    "print(\"↓↓ Checking validity ↓↓\")\n",
    "\n",
    "#Check token validity\n",
    "\n",
    "validate_url = 'https://auth.anaplan.com/token/validate'\n",
    "header = {'Authorization' : auth}\n",
    "\n",
    "request = requests.get(validate_url, headers = header)\n",
    "status =json.loads(request.text)\n",
    "print(status)\n",
    "print(status['statusMessage'])"
   ]
  },
  {
   "cell_type": "markdown",
   "metadata": {
    "hidden": true
   },
   "source": [
    "### 2. Certificate Authentication"
   ]
  },
  {
   "cell_type": "markdown",
   "metadata": {
    "heading_collapsed": true,
    "hidden": true
   },
   "source": [
    "#### Expand this to see how to get public and private pem files"
   ]
  },
  {
   "cell_type": "markdown",
   "metadata": {
    "hidden": true
   },
   "source": [
    "1. Purchase valid SAML certificate from supported Certificate Authorities; official list from Anaplan  \n",
    "https://help.anaplan.com/supported-root-ca-certificates-with-anaplan-4475afaf-4c2f-4728-b0e9-a1db858b79f6\n",
    "2. Which certificate to buy?  \n",
    "\n",
    "![Alt text](notebook_images/image.png)  \n",
    "\n",
    "3. Procure p12 file from CA. The email in the certificate must also be added in the Anaplan workspace as a Non-SSO User. Also note down the password provided when procuring the cert  \n",
    "4. Download and install OpenSSL from\n",
    "https://slproweb.com/products/Win32OpenSSL.html\n",
    "5. Create the public .pem file  \n",
    "    * Run the following command including the double quotes to start the OpenSSL program:  \n",
    "    \"C:\\Program Files\\openssl-win64\\bin\\openssl.exe”  \n",
    "    * Extract the .pem file from the digital certificate, to do this enter the following command (Note that the location of p12 certificate may be different)  \n",
    "    * pkcs12 -in C:\\certname.p12 -nokeys -out C:\\Certificates\\new_cert_name.pem\n",
    "    * Enter the password for cert, new .pem file will be placed in the Certificates folder.\n",
    "6. Create the private key .pem file\n",
    "    * pkcs12 -in C:\\cert_name.p12 -nocerts -out c:\\Certificates\\new_private_key.key nodes  \n",
    "    * Enter the cert password  \n",
    "    * Once complete a file with the extension .key will be created in the Certificates folder. Rename the extension to .pem"
   ]
  },
  {
   "cell_type": "markdown",
   "metadata": {
    "heading_collapsed": true,
    "hidden": true
   },
   "source": [
    "#### Ready and validate credentials - Certificate"
   ]
  },
  {
   "cell_type": "markdown",
   "metadata": {
    "hidden": true
   },
   "source": [
    "After converting from p12 format to public pem and private pem;  \n",
    "Private Key -> No changes to be made\n",
    "Public Key -> Use the same one that is imported in Tenant Admin, in other words, remove all info outside the first BEGIN CERTIFICATE and END CERTIFICATE"
   ]
  },
  {
   "cell_type": "code",
   "execution_count": null,
   "metadata": {
    "hidden": true
   },
   "outputs": [],
   "source": [
    "from base64 import b64encode\n",
    "import os\n",
    "import requests\n",
    "from OpenSSL import crypto\n",
    "import json\n",
    "\n",
    "# Provide path to the file\n",
    "certfile = \"public.pem\"\n",
    "keyfile = \"private.pem\"\n",
    "\n",
    "st_cert = open(certfile, 'rt').read()\n",
    "cert = crypto.load_certificate(crypto.FILETYPE_PEM, st_cert)\n",
    "\n",
    "st_key = open(keyfile, 'rt').read()\n",
    "key = crypto.load_privatekey(crypto.FILETYPE_PEM, st_key)\n",
    "\n",
    "pem = crypto.dump_certificate(crypto.FILETYPE_TEXT, cert)\n",
    "random_str = os.urandom(100)\n",
    "signed_str = crypto.sign(key, random_str, \"sha512\")\n",
    "\n",
    "st_cert = (st_cert.replace(\"\\n\", \"\").replace(\n",
    "    \"-----BEGIN CERTIFICATE-----\", \"\").replace(\"-----END CERTIFICATE-----\", \"\"))\n",
    "\n",
    "auth_headers = {'AUTHORIZATION': 'CACertificate ' + st_cert}\n",
    "\n",
    "encodedstr = b64encode(random_str)\n",
    "signedstr = b64encode(signed_str)\n",
    "\n",
    "body = {'encodedData': encodedstr.decode(\"utf-8\"),\n",
    "        'encodedSignedData': signedstr.decode(\"utf-8\")}\n",
    "\n",
    "body = json.dumps(body)\n",
    "\n",
    "anaplan_url = 'https://auth.anaplan.com/token/authenticate'\n",
    "r = requests.post(url=anaplan_url, headers=auth_headers, data=body)\n",
    "\n",
    "fullTokenjson = json.loads(r.text)\n",
    "print(fullTokenjson)\n",
    "\n",
    "auth = 'AnaplanAuthToken ' + fullTokenjson['tokenInfo']['tokenValue']\n",
    "print(auth)\n",
    "print(\"↓↓ Checking validity ↓↓\")\n",
    "\n",
    "#Check token validity\n",
    "\n",
    "validate_url = 'https://auth.anaplan.com/token/validate'\n",
    "header = {'Authorization' : auth}\n",
    "\n",
    "request = requests.get(validate_url, headers = header)\n",
    "status =json.loads(request.text)\n",
    "print(status)\n",
    "print(status['statusMessage'])"
   ]
  },
  {
   "cell_type": "markdown",
   "metadata": {
    "heading_collapsed": true,
    "hidden": true
   },
   "source": [
    "### 3. OAuth 2.0"
   ]
  },
  {
   "cell_type": "markdown",
   "metadata": {
    "hidden": true
   },
   "source": [
    "#### 3.1 OAuth Authorization Code Flow"
   ]
  },
  {
   "cell_type": "markdown",
   "metadata": {
    "hidden": true
   },
   "source": [
    "[Create an Authorization client following these steps](https://help.anaplan.com/create-an-oauth-20-client-0984a799-a667-4e70-8759-a134be32f48c)  \n",
    "Input the blank fields below to construct the URL  \n",
    "Then visit the link constructed in the output and authorize the application  \n",
    "After successfull authorization, it will redirect to the specified redirect URI  \n",
    "Copy the URI and keep it ready for the next step"
   ]
  },
  {
   "cell_type": "code",
   "execution_count": null,
   "metadata": {
    "hidden": true
   },
   "outputs": [],
   "source": [
    "from oauthlib.oauth2 import WebApplicationClient\n",
    "\n",
    "authorization_url = 'https://us1a.app.anaplan.com/auth/authorize'\n",
    "\n",
    "client_id = ''\n",
    "client_secret = ''\n",
    "redirect_uri = ''\n",
    "client = WebApplicationClient(client_id)\n",
    "\n",
    "url = client.prepare_request_uri(\n",
    "  authorization_url,\n",
    "  redirect_uri = redirect_uri,\n",
    "  scope = 'openid profile email offline_access'\n",
    ")\n",
    "print(url)"
   ]
  },
  {
   "cell_type": "code",
   "execution_count": null,
   "metadata": {
    "hidden": true
   },
   "outputs": [],
   "source": [
    "## Paste the redirected URI into this variable\n",
    "redirected_uri = ''\n",
    "\n",
    "import requests\n",
    "import json\n",
    "\n",
    "from urllib.parse import urlparse, parse_qs\n",
    "\n",
    "parsed = urlparse(redirected_uri)\n",
    "code = parse_qs(parsed.query)['code'][0]\n",
    "\n",
    "token_url = 'https://us1a.app.anaplan.com/oauth/token'\n",
    "header = {'Content-Type' : 'application/json'}\n",
    "\n",
    "body = {\n",
    "    'grant_type' : 'authorization_code',\n",
    "    'client_id' : client_id,\n",
    "    'code' : code,\n",
    "    'client_secret' : client_secret,\n",
    "    'redirect_uri' : redirect_uri\n",
    "\n",
    "}\n",
    "\n",
    "request = requests.post(token_url, headers = header, json=body)\n",
    "fullToken = json.loads(request.text)\n",
    "auth = 'AnaplanAuthToken ' + fullToken['access_token']\n",
    "print(auth)"
   ]
  },
  {
   "cell_type": "markdown",
   "metadata": {
    "hidden": true
   },
   "source": [
    "#### 3.2 OAuth Device Code Flow"
   ]
  },
  {
   "cell_type": "markdown",
   "metadata": {
    "hidden": true
   },
   "source": [
    "[Create a Device client following these steps](https://help.anaplan.com/create-an-oauth-20-client-0984a799-a667-4e70-8759-a134be32f48c)  \n",
    "Input the client id and receive the URL  \n",
    "Then visit the link constructed in the output and authorize the application  \n",
    "That's it! Run the next piece of code to get the authorization token"
   ]
  },
  {
   "cell_type": "code",
   "execution_count": null,
   "metadata": {
    "hidden": true
   },
   "outputs": [],
   "source": [
    "import requests\n",
    "import json\n",
    "\n",
    "client_id = ''\n",
    "\n",
    "token_url = 'https://us1a.app.anaplan.com/oauth/device/code'\n",
    "header = {'Content-Type' : 'application/json'}\n",
    "\n",
    "body = {\n",
    "    'client_id' : client_id,\n",
    "    'scope' : 'openid profile email offline_access'\n",
    "}\n",
    "\n",
    "request = requests.post(token_url, headers=header, json=body)\n",
    "fullToken = json.loads(request.text)\n",
    "\n",
    "print(f\"Go to this URL and authorize. Then enter this code: {fullToken['user_code']}\")\n",
    "print(fullToken['verification_uri'])"
   ]
  },
  {
   "cell_type": "code",
   "execution_count": null,
   "metadata": {
    "hidden": true
   },
   "outputs": [],
   "source": [
    "token_url = 'https://us1a.app.anaplan.com/oauth/token'\n",
    "header = {'Content-Type' : 'application/json'}\n",
    "\n",
    "body = {\n",
    "    'grant_type' : 'urn:ietf:params:oauth:grant-type:device_code',\n",
    "    'client_id' : client_id,\n",
    "    'device_code' : fullToken['device_code']\n",
    "}\n",
    "\n",
    "request = requests.post(token_url, headers = header, json=body)\n",
    "j = json.loads(request.text)\n",
    "\n",
    "auth = 'AnaplanAuthToken ' + j['access_token']\n",
    "print(auth)"
   ]
  },
  {
   "cell_type": "markdown",
   "metadata": {
    "heading_collapsed": true,
    "hidden": true
   },
   "source": [
    "### 4. Refresh Token"
   ]
  },
  {
   "cell_type": "markdown",
   "metadata": {
    "hidden": true
   },
   "source": [
    "Tokens expire every 35 minutes. Refresh using this function. The argument expected by the function is 'AnaplanAuthToken ' followed by a valid unexpired token in the same format"
   ]
  },
  {
   "cell_type": "code",
   "execution_count": null,
   "metadata": {
    "hidden": true
   },
   "outputs": [],
   "source": [
    "def refreshToken(authToRefresh):\n",
    "    \n",
    "    refresh_url = 'https://auth.anaplan.com/token/refresh'\n",
    "    header = {'Authorization' : authToRefresh}\n",
    "    \n",
    "    request = requests.post(refresh_url, headers = header)\n",
    "    fullTokenjson = json.loads(request.text)\n",
    "    return 'AnaplanAuthToken ' + fullTokenjson['tokenInfo']['tokenValue']\n",
    "\n",
    "auth = refreshToken(auth)\n",
    "print(auth)"
   ]
  },
  {
   "cell_type": "markdown",
   "metadata": {
    "heading_collapsed": true
   },
   "source": [
    "## SECTION II-A: Transactional APIs - Model Level  \n",
    "Get Workspaces, Models, Line Items"
   ]
  },
  {
   "cell_type": "markdown",
   "metadata": {
    "hidden": true
   },
   "source": [
    "### 1. Get Workspaces  \n",
    "[Official Documentation Link](https://anaplanbulkapi20.docs.apiary.io/#/reference/workspaces)"
   ]
  },
  {
   "cell_type": "markdown",
   "metadata": {
    "hidden": true
   },
   "source": [
    "#### 1.1 Get all WS Info"
   ]
  },
  {
   "cell_type": "markdown",
   "metadata": {
    "hidden": true
   },
   "source": [
    "Get the list of workspaces that user has access to. Note the optional query parameter of tenantDetails. If not included the currentSize is excluded in the json output"
   ]
  },
  {
   "cell_type": "code",
   "execution_count": null,
   "metadata": {
    "hidden": true
   },
   "outputs": [],
   "source": [
    "workspaces_url = 'https://api.anaplan.com/2/0/workspaces?tenantDetails=true'\n",
    "header = {'Authorization' : auth}\n",
    "\n",
    "request = requests.get(workspaces_url, headers = header)\n",
    "ws = json.loads(request.text)\n",
    "\n",
    "print(ws['workspaces'])"
   ]
  },
  {
   "cell_type": "markdown",
   "metadata": {
    "hidden": true
   },
   "source": [
    "#### 1.2 Get Specific WS Info"
   ]
  },
  {
   "cell_type": "markdown",
   "metadata": {
    "hidden": true
   },
   "source": [
    "Same query as the one above; except it returns the json object of only one WS that's specified. Note that the query parameter is optional"
   ]
  },
  {
   "cell_type": "code",
   "execution_count": null,
   "metadata": {
    "hidden": true
   },
   "outputs": [],
   "source": [
    "ws_id = ''\n",
    "workspaces_url = f'https://api.anaplan.com/2/0/workspaces/{ws_id}?tenantDetails=true'\n",
    "header = {'Authorization' : auth}\n",
    "\n",
    "request = requests.get(workspaces_url, headers = header)\n",
    "ws = json.loads(request.text)\n",
    "\n",
    "print(ws['workspace'])"
   ]
  },
  {
   "cell_type": "markdown",
   "metadata": {
    "hidden": true
   },
   "source": [
    "### 2. Get Models  \n",
    "[Official Documentation Link](https://anaplanbulkapi20.docs.apiary.io/#/reference/models)"
   ]
  },
  {
   "cell_type": "markdown",
   "metadata": {
    "hidden": true
   },
   "source": [
    "#### 2.1 Get all Models Info"
   ]
  },
  {
   "cell_type": "markdown",
   "metadata": {
    "hidden": true
   },
   "source": [
    "Get the list of models that user has access to (including Archived models). Note the optional parameter which will include current memory usage and other model metadata"
   ]
  },
  {
   "cell_type": "code",
   "execution_count": null,
   "metadata": {
    "collapsed": true,
    "hidden": true,
    "jupyter": {
     "outputs_hidden": true
    }
   },
   "outputs": [],
   "source": [
    "models_url = 'https://api.anaplan.com/2/0/models?modelDetails=true'\n",
    "header = {'Authorization' : auth}\n",
    "\n",
    "request = requests.get(models_url, headers = header)\n",
    "models = json.loads(request.text)\n",
    "\n",
    "print(models['models'])"
   ]
  },
  {
   "cell_type": "markdown",
   "metadata": {
    "hidden": true
   },
   "source": [
    "#### 2.2 Get specific Model Info"
   ]
  },
  {
   "cell_type": "markdown",
   "metadata": {
    "hidden": true
   },
   "source": [
    "Get specific model info, requires specifying the model ID. Note the optional parameter which will include current memory usage and other model metadata"
   ]
  },
  {
   "cell_type": "code",
   "execution_count": null,
   "metadata": {
    "hidden": true
   },
   "outputs": [],
   "source": [
    "model_id = ''\n",
    "models_url = f'https://api.anaplan.com/2/0/models/{model_id}?modelDetails=true'\n",
    "header = {'Authorization' : auth}\n",
    "\n",
    "request = requests.get(models_url, headers = header)\n",
    "models = json.loads(request.text)\n",
    "\n",
    "print(models['model'])"
   ]
  },
  {
   "cell_type": "markdown",
   "metadata": {
    "hidden": true
   },
   "source": [
    "#### 2.3 Check Model Status"
   ]
  },
  {
   "cell_type": "markdown",
   "metadata": {
    "hidden": true
   },
   "source": [
    "Check what the model is doing right now, including model lock status or processing user request etc.  \n",
    "__Note__: The documentation says this is a POST request, but it only accepts GET"
   ]
  },
  {
   "cell_type": "code",
   "execution_count": null,
   "metadata": {
    "hidden": true
   },
   "outputs": [],
   "source": [
    "ws_id = ''\n",
    "model_id = ''\n",
    "models_url = f'https://api.anaplan.com/2/0/workspaces/{ws_id}/models/{model_id}/status'\n",
    "header = {'Authorization' : auth,\n",
    "          'Content-Type' : 'application/json',\n",
    "         'Accept' : 'application/json'}\n",
    "\n",
    "request = requests.get(models_url, headers = header)\n",
    "models = json.loads(request.text)\n",
    "\n",
    "print(models)"
   ]
  },
  {
   "cell_type": "markdown",
   "metadata": {
    "hidden": true
   },
   "source": [
    "#### 2.4 Delete Models"
   ]
  },
  {
   "cell_type": "markdown",
   "metadata": {
    "hidden": true
   },
   "source": [
    "Send an array of models to be deleted from a workspace. Model must be in closed status first"
   ]
  },
  {
   "cell_type": "code",
   "execution_count": null,
   "metadata": {
    "hidden": true
   },
   "outputs": [],
   "source": [
    "ws_id = ''\n",
    "models = ['model_id_1_here', 'model_id_2_here']\n",
    "body = {\"modelIdsToDelete\": models}\n",
    "models_url = f'https://api.anaplan.com/2/0/workspaces/{ws_id}/bulkDeleteModels'\n",
    "header = {'Authorization' : auth}\n",
    "\n",
    "request = requests.post(models_url, headers = header, json=body)\n",
    "models = json.loads(request.text)\n",
    "\n",
    "print(models)"
   ]
  },
  {
   "cell_type": "markdown",
   "metadata": {
    "hidden": true
   },
   "source": [
    "### 3. *Set workspace and model*"
   ]
  },
  {
   "cell_type": "markdown",
   "metadata": {
    "hidden": true
   },
   "source": [
    "Variables to control which workspace and model is being accessed. Cannot proceed with any of the requests below unless WS ID and Model ID are set here"
   ]
  },
  {
   "cell_type": "code",
   "execution_count": null,
   "metadata": {
    "hidden": true
   },
   "outputs": [],
   "source": [
    "accessWS = ''\n",
    "accessM = ''"
   ]
  },
  {
   "cell_type": "markdown",
   "metadata": {
    "hidden": true
   },
   "source": [
    "### 4. Get Line Items  \n",
    "[Official Documentation Link](https://anaplanbulkapi20.docs.apiary.io/#/reference/line-items)"
   ]
  },
  {
   "cell_type": "markdown",
   "metadata": {
    "hidden": true
   },
   "source": [
    "#### 4.1 Retrieve all Line Items in a model"
   ]
  },
  {
   "cell_type": "markdown",
   "metadata": {
    "hidden": true
   },
   "source": [
    "Get all the line items and their IDs in the model. This is much more useful with the query parameter includeAll=true; demonstrated in another call"
   ]
  },
  {
   "cell_type": "code",
   "execution_count": null,
   "metadata": {
    "hidden": true,
    "tags": []
   },
   "outputs": [],
   "source": [
    "tran_url = f'https://api.anaplan.com/2/0/models/{accessM}/lineItems/'\n",
    "\n",
    "header = {'Authorization' : auth,\n",
    "         'Accept' : 'application/json'}\n",
    "\n",
    "request = requests.get(tran_url, headers = header)\n",
    "lis = json.loads(request.text)\n",
    "\n",
    "print(lis['items'])"
   ]
  },
  {
   "cell_type": "markdown",
   "metadata": {
    "hidden": true
   },
   "source": [
    "#### 4.2 Retrieve Dimension IDs for one line item"
   ]
  },
  {
   "cell_type": "markdown",
   "metadata": {
    "hidden": true
   },
   "source": [
    "Give the ID of one LI and retrieve all dimension IDs against that LI"
   ]
  },
  {
   "cell_type": "code",
   "execution_count": null,
   "metadata": {
    "hidden": true
   },
   "outputs": [],
   "source": [
    "li_id = ''\n",
    "\n",
    "tran_url = f'https://api.anaplan.com/2/0/models/{accessM}/lineItems/{li_id}/dimensions'\n",
    "\n",
    "header = {'Authorization' : auth,\n",
    "         'Accept' : 'application/json'}\n",
    "\n",
    "request = requests.get(tran_url, headers = header)\n",
    "lis = json.loads(request.text)\n",
    "\n",
    "print(lis['dimensions'])\n"
   ]
  },
  {
   "cell_type": "markdown",
   "metadata": {
    "heading_collapsed": true,
    "hidden": true
   },
   "source": [
    "#### 4.3 Retrieve every line item metadata in one model"
   ]
  },
  {
   "cell_type": "markdown",
   "metadata": {
    "hidden": true
   },
   "source": [
    "Same request as 4.1 but much more granular"
   ]
  },
  {
   "cell_type": "code",
   "execution_count": null,
   "metadata": {
    "hidden": true
   },
   "outputs": [],
   "source": [
    "tran_url = f'https://api.anaplan.com/2/0/models/{accessM}/lineItems?includeAll=True'\n",
    "\n",
    "header = {'Authorization' : auth,\n",
    "         'Accept' : 'application/json'}\n",
    "\n",
    "request = requests.get(tran_url, headers = header)\n",
    "lis = json.loads(request.text)\n",
    "\n",
    "print(lis['items'])"
   ]
  },
  {
   "cell_type": "markdown",
   "metadata": {
    "heading_collapsed": true,
    "hidden": true
   },
   "source": [
    "#### 4.4 Retrieve every line item metadata in one module  "
   ]
  },
  {
   "attachments": {
    "image.png": {
     "image/png": "[encoded data removed]"
    }
   },
   "cell_type": "markdown",
   "metadata": {
    "hidden": true
   },
   "source": [
    "Same request again as 4.1 but much more granular and limited to one particular module  \n",
    "Special Notes from docs  \n",
    "\n",
    "![image.png](attachment:image.png)"
   ]
  },
  {
   "cell_type": "code",
   "execution_count": null,
   "metadata": {
    "hidden": true
   },
   "outputs": [],
   "source": [
    "module_id = ''\n",
    "tran_url = f'https://api.anaplan.com/2/0/models/{accessM}/modules/{module_id}/lineItems?includeAll=True'\n",
    "\n",
    "header = {'Authorization' : auth,\n",
    "         'Accept' : 'application/json'}\n",
    "\n",
    "request = requests.get(tran_url, headers = header)\n",
    "lis = json.loads(request.text)\n",
    "\n",
    "print(lis['items'])"
   ]
  },
  {
   "cell_type": "markdown",
   "metadata": {
    "heading_collapsed": true,
    "hidden": true
   },
   "source": [
    "### 5. Other Model Metadata  \n",
    "[Official Documentation Link](https://anaplanbulkapi20.docs.apiary.io/#OtherModelMetadata)"
   ]
  },
  {
   "cell_type": "markdown",
   "metadata": {
    "heading_collapsed": true,
    "hidden": true
   },
   "source": [
    "####  5.1 Retrieve Item IDs for dimension in line item"
   ]
  },
  {
   "attachments": {
    "image.png": {
     "image/png": "[encoded data removed]"
    }
   },
   "cell_type": "markdown",
   "metadata": {
    "hidden": true
   },
   "source": [
    "Point to a particular line item and it's applied dimension and receive every member of that dimension  \n",
    "Special Notes  \n",
    "![image.png](attachment:image.png)"
   ]
  },
  {
   "cell_type": "code",
   "execution_count": null,
   "metadata": {
    "hidden": true
   },
   "outputs": [],
   "source": [
    "li_id = ''\n",
    "dim_id = ''\n",
    "tran_url = f'https://api.anaplan.com/2/0/models/{accessM}/lineItems/{li_id}/dimensions/{dim_id}/items'\n",
    "\n",
    "header = {'Authorization' : auth,\n",
    "         'Accept' : 'application/json'}\n",
    "\n",
    "request = requests.get(tran_url, headers = header)\n",
    "lis = json.loads(request.text)\n",
    "print(lis['items'])"
   ]
  },
  {
   "cell_type": "markdown",
   "metadata": {
    "heading_collapsed": true,
    "hidden": true
   },
   "source": [
    "####  5.2 Retrieve Item IDs for any one dimension"
   ]
  },
  {
   "attachments": {
    "image.png": {
     "image/png": "[encoded data removed]"
    }
   },
   "cell_type": "markdown",
   "metadata": {
    "hidden": true
   },
   "source": [
    "Point to a particular dimension and receive every member of that dimension  \n",
    "Special Notes  \n",
    "![image.png](attachment:image.png)"
   ]
  },
  {
   "cell_type": "code",
   "execution_count": null,
   "metadata": {
    "hidden": true
   },
   "outputs": [],
   "source": [
    "dim_id = ''\n",
    "tran_url = f'https://api.anaplan.com/2/0/models/{accessM}/dimensions/{dim_id}/items'\n",
    "\n",
    "header = {'Authorization' : auth,\n",
    "         'Accept' : 'application/json'}\n",
    "\n",
    "request = requests.get(tran_url, headers = header)\n",
    "lis = json.loads(request.text)\n",
    "print(lis['items'])"
   ]
  },
  {
   "cell_type": "markdown",
   "metadata": {
    "hidden": true
   },
   "source": [
    "####  5.3 Retrieve Item IDs for any one dimension and any one module/saved view/line item"
   ]
  },
  {
   "attachments": {
    "image.png": {
     "image/png": "[encoded data removed]"
    }
   },
   "cell_type": "markdown",
   "metadata": {
    "hidden": true
   },
   "source": [
    "Point to a particular dimension and particular module or its saved view and receive every member of that dimension  \n",
    "Special Notes  \n",
    "![image.png](attachment:image.png)"
   ]
  },
  {
   "cell_type": "code",
   "execution_count": null,
   "metadata": {
    "hidden": true
   },
   "outputs": [],
   "source": [
    "dim_id = ''\n",
    "view_id = ''\n",
    "tran_url = f'https://api.anaplan.com/2/0/models/{accessM}/views/{view_id}/dimensions/{dim_id}/items'\n",
    "\n",
    "header = {'Authorization' : auth,\n",
    "         'Accept' : 'application/json'}\n",
    "\n",
    "request = requests.get(tran_url, headers = header)\n",
    "lis = json.loads(request.text)\n",
    "print(lis['items'])"
   ]
  },
  {
   "cell_type": "markdown",
   "metadata": {
    "heading_collapsed": true
   },
   "source": [
    "## SECTION II-B: Transactional APIs - Module level  \n",
    "Get Modules, Views, Read Cell Data, Create Large Volume requests and Update Cell Data"
   ]
  },
  {
   "cell_type": "markdown",
   "metadata": {
    "heading_collapsed": true,
    "hidden": true
   },
   "source": [
    "### 6. Read Module, view Metadata and limited volume cell data  \n",
    "[Official Documentation Link](https://anaplanbulkapi20.docs.apiary.io/#ModuleAndViewData)"
   ]
  },
  {
   "cell_type": "markdown",
   "metadata": {
    "heading_collapsed": true,
    "hidden": true
   },
   "source": [
    "#### 6.1 Retrieve Module IDs across model"
   ]
  },
  {
   "cell_type": "markdown",
   "metadata": {
    "hidden": true
   },
   "source": [
    "Get all the module IDs for further API calls"
   ]
  },
  {
   "cell_type": "code",
   "execution_count": null,
   "metadata": {
    "hidden": true
   },
   "outputs": [],
   "source": [
    "tran_url = f'https://api.anaplan.com/2/0/models/{accessM}/modules'\n",
    "\n",
    "header = {'Authorization' : auth,\n",
    "         'Accept' : 'application/json'}\n",
    "\n",
    "request = requests.get(tran_url, headers = header)\n",
    "modules = json.loads(request.text)\n",
    "print(modules['modules'])"
   ]
  },
  {
   "cell_type": "markdown",
   "metadata": {
    "heading_collapsed": true,
    "hidden": true
   },
   "source": [
    "#### 6.2 Retrieve View IDs across model"
   ]
  },
  {
   "attachments": {
    "image.png": {
     "image/png": "[encoded data removed]"
    }
   },
   "cell_type": "markdown",
   "metadata": {
    "hidden": true
   },
   "source": [
    "Get all the view IDs for further API calls. Note the query parameter which is optional  \n",
    "Special Notes  \n",
    "![image.png](attachment:image.png)"
   ]
  },
  {
   "cell_type": "code",
   "execution_count": null,
   "metadata": {
    "hidden": true
   },
   "outputs": [],
   "source": [
    "tran_url = f'https://api.anaplan.com/2/0/models/{accessM}/views?includeSubsidiaryViews=True'\n",
    "\n",
    "header = {'Authorization' : auth,\n",
    "         'Accept' : 'application/json'}\n",
    "\n",
    "request = requests.get(tran_url, headers = header)\n",
    "modules = json.loads(request.text)\n",
    "print(modules['views'])"
   ]
  },
  {
   "cell_type": "markdown",
   "metadata": {
    "heading_collapsed": true,
    "hidden": true
   },
   "source": [
    "#### 6.3 Retrieve a given Module's Line Items"
   ]
  },
  {
   "cell_type": "markdown",
   "metadata": {
    "hidden": true
   },
   "source": [
    "Same request as Line Item requests from above section but restricted to a specific module"
   ]
  },
  {
   "cell_type": "code",
   "execution_count": null,
   "metadata": {
    "hidden": true
   },
   "outputs": [],
   "source": [
    "module_id = ''\n",
    "\n",
    "tran_url = f'https://api.anaplan.com/2/0/models/{accessM}/modules/{module_id}/lineItems'\n",
    "\n",
    "header = {'Authorization' : auth,\n",
    "         'Accept' : 'application/json'}\n",
    "\n",
    "request = requests.get(tran_url, headers = header)\n",
    "lis = json.loads(request.text)\n",
    "print(lis['items'])"
   ]
  },
  {
   "cell_type": "markdown",
   "metadata": {
    "heading_collapsed": true,
    "hidden": true
   },
   "source": [
    "#### 6.4 Retrieve a given Module's Views"
   ]
  },
  {
   "cell_type": "markdown",
   "metadata": {
    "hidden": true
   },
   "source": [
    "Same request as above but restricted to a specific module"
   ]
  },
  {
   "cell_type": "code",
   "execution_count": null,
   "metadata": {
    "hidden": true
   },
   "outputs": [],
   "source": [
    "module_id = ''\n",
    "\n",
    "# include subsidiary view parameter may be removed or set to false\n",
    "tran_url = f'https://api.anaplan.com/2/0/models/{accessM}/modules/{module_id}/views?includesubsidiaryviews=True'\n",
    "\n",
    "header = {'Authorization' : auth,\n",
    "         'Accept' : 'application/json'}\n",
    "\n",
    "request = requests.get(tran_url, headers = header)\n",
    "views = json.loads(request.text)\n",
    "print(views['views'])"
   ]
  },
  {
   "cell_type": "markdown",
   "metadata": {
    "heading_collapsed": true,
    "hidden": true
   },
   "source": [
    "#### 6.5 Retrieve View metata in a module view"
   ]
  },
  {
   "cell_type": "markdown",
   "metadata": {
    "hidden": true
   },
   "source": [
    "Helps understand how dimensions are spread across the view  \n",
    "Added special parsing to make it human readable"
   ]
  },
  {
   "cell_type": "code",
   "execution_count": null,
   "metadata": {
    "hidden": true,
    "scrolled": true
   },
   "outputs": [],
   "source": [
    "view_id = ''\n",
    "\n",
    "# include subsidiary view parameter may be removed or set to false\n",
    "tran_url = f'https://api.anaplan.com/2/0/models/{accessM}/views/{view_id}'\n",
    "\n",
    "header = {'Authorization' : auth,\n",
    "         'Accept' : 'application/json'}\n",
    "\n",
    "request = requests.get(tran_url, headers = header)\n",
    "view_md = json.loads(request.text)\n",
    "print(view_md)\n",
    "\n",
    "print('Special Parsing\\nColumns:')\n",
    "try:\n",
    "    view_md['columns']\n",
    "    for member in view_md['columns']:\n",
    "        print(member,'\\n')\n",
    "except:\n",
    "    print('No column axis on this view','\\n')\n",
    "\n",
    "print('Rows:')\n",
    "try:\n",
    "    view_md['rows']\n",
    "    for member in view_md['rows']:\n",
    "        print(member,'\\n')\n",
    "except:\n",
    "    print('No row axis on this view','\\n')\n",
    "\n",
    "print('Page Selector:')\n",
    "try:\n",
    "    view_md['pages']\n",
    "    for member in view_md['pages']:\n",
    "        print(member,'\\n')\n",
    "except:\n",
    "    print('No page axis on this view','\\n')"
   ]
  },
  {
   "cell_type": "markdown",
   "metadata": {
    "heading_collapsed": true,
    "hidden": true
   },
   "source": [
    "#### 6.6 Download data from Module View"
   ]
  },
  {
   "cell_type": "markdown",
   "metadata": {
    "hidden": true
   },
   "source": [
    "Lots of special notes and restrictions on this API call. Worth reading the [official docs](https://anaplanbulkapi20.docs.apiary.io/#RetrieveCellDataView) in full"
   ]
  },
  {
   "cell_type": "code",
   "execution_count": null,
   "metadata": {
    "hidden": true
   },
   "outputs": [],
   "source": [
    "view_id = ''\n",
    "\n",
    "# Call for a view with No page selectors\n",
    "print('Regular CSV Call\\n')\n",
    "tran_url = f'https://api.anaplan.com/2/0/models/{accessM}/views/{view_id}/data'\n",
    "\n",
    "header = {'Authorization' : auth,\n",
    "         'Accept' : 'text/csv'}\n",
    "\n",
    "request = requests.get(tran_url, headers = header)\n",
    "data = request.text\n",
    "print(data)\n",
    "    \n",
    "# Call for a view with Page selector\n",
    "# format for the pages argument is dimension id: member id\n",
    "# Replace the zeroes with your dimension id and member id\n",
    "print('\\n Page Selector Call \\n')\n",
    "dim_id = 0\n",
    "dim_item_id = 0\n",
    "\n",
    "tran_url = f'https://api.anaplan.com/2/0/models/{accessM}/views/{view_id}/data?pages={dim_id}:{dim_item_id}'\n",
    "\n",
    "header = {'Authorization' : auth,\n",
    "         'Accept' : 'text/csv'}\n",
    "\n",
    "request = requests.get(tran_url, headers = header)\n",
    "data_ps = request.text\n",
    "print(data_ps)\n",
    "\n",
    "# Call for JSON view\n",
    "print('Regular Json Call\\n')\n",
    "tran_url = f'https://api.anaplan.com/2/0/models/{accessM}/views/{view_id}/data?format=v1'\n",
    "\n",
    "header = {'Authorization' : auth,\n",
    "         'Accept' : 'application/json'}\n",
    "\n",
    "request = requests.get(tran_url, headers = header)\n",
    "data = request.text\n",
    "print(data)"
   ]
  },
  {
   "cell_type": "markdown",
   "metadata": {
    "heading_collapsed": true,
    "hidden": true
   },
   "source": [
    "### 7. Large Volume requests  \n",
    "[Official Documentation Link](https://anaplanbulkapi20.docs.apiary.io/#ReadLargeVolumeListItemData)"
   ]
  },
  {
   "cell_type": "markdown",
   "metadata": {
    "hidden": true
   },
   "source": [
    "#### Initiate request"
   ]
  },
  {
   "cell_type": "markdown",
   "metadata": {
    "hidden": true
   },
   "source": [
    "Must be a WSA. Probably because views need to be created on the module itself\n",
    "\n",
    "Options available for export types are:  \n",
    "GRID_ALL_PAGES  \n",
    "TABULAR_SINGLE_COLUMN  \n",
    "TABULAR_MULTI_COLUMN"
   ]
  },
  {
   "cell_type": "code",
   "execution_count": null,
   "metadata": {
    "hidden": true
   },
   "outputs": [],
   "source": [
    "module_id = ''\n",
    "\n",
    "tran_url = f'https://api.anaplan.com/2/0/workspaces/{accessWS}/models/{accessM}/views/{module_id}/readRequests/'\n",
    "\n",
    "header = {'Authorization' : auth,\n",
    "         'Accept' : 'application/json'}\n",
    "\n",
    "body = {\n",
    "      \"exportType\": \"TABULAR_MULTI_COLUMN\"\n",
    "    }\n",
    "\n",
    "request = requests.post(tran_url, headers = header, json = body)\n",
    "f = json.loads(request.text)\n",
    "print(f)\n",
    "req_id = f['viewReadRequest']['requestId']\n",
    "print(req_id)"
   ]
  },
  {
   "cell_type": "markdown",
   "metadata": {
    "hidden": true
   },
   "source": [
    "#### Check the status of the request and view number of available pages"
   ]
  },
  {
   "cell_type": "code",
   "execution_count": null,
   "metadata": {
    "hidden": true
   },
   "outputs": [],
   "source": [
    "tran_url = f'https://api.anaplan.com/2/0/workspaces/{accessWS}/models/{accessM}/views/{module_id}/readRequests/{req_id}'\n",
    "\n",
    "header = {'Authorization' : auth,\n",
    "         'Accept' : 'application/json'}\n",
    "\n",
    "request = requests.get(tran_url, headers = header)\n",
    "f = json.loads(request.text)\n",
    "print('Number of pages: ')\n",
    "print(f['viewReadRequest']['availablePages'])\n",
    "print(f['viewReadRequest']['requestState'])"
   ]
  },
  {
   "cell_type": "markdown",
   "metadata": {
    "hidden": true
   },
   "source": [
    "#### Finally download the data. Loop this code for each available page and then concatenate the data"
   ]
  },
  {
   "cell_type": "code",
   "execution_count": null,
   "metadata": {
    "hidden": true
   },
   "outputs": [],
   "source": [
    "tran_url = f'https://api.anaplan.com/2/0/workspaces/{accessWS}/models/{accessM}/views/{module_id}/readRequests/{req_id}/pages/0'\n",
    "\n",
    "header = {'Authorization' : auth,\n",
    "         'Accept' : 'text/csv'}\n",
    "\n",
    "request = requests.get(tran_url, headers = header)\n",
    "print(request.text)"
   ]
  },
  {
   "cell_type": "markdown",
   "metadata": {
    "hidden": true
   },
   "source": [
    "#### Delete read requests"
   ]
  },
  {
   "cell_type": "markdown",
   "metadata": {
    "hidden": true
   },
   "source": [
    "As per Anaplan:  \n",
    "\n",
    "As a best practice, use this call to clear all pages from completed exports as soon as you download all pages. Doing so will make space available for future exports.  \n",
    "The system will automatically reclaim space for read requests not accessed for over 30 minutes. The same applies to failed read requests."
   ]
  },
  {
   "cell_type": "code",
   "execution_count": null,
   "metadata": {
    "hidden": true
   },
   "outputs": [],
   "source": [
    "tran_url = f'https://api.anaplan.com/2/0/workspaces/{accessWS}/models/{accessM}/views/{module_id}/readRequests/{req_id}'\n",
    "\n",
    "header = {'Authorization' : auth,\n",
    "         'Accept' : 'application/json'}\n",
    "\n",
    "request = requests.delete(tran_url, headers = header)\n",
    "f = json.loads(request.text)\n",
    "print(request.text)"
   ]
  },
  {
   "cell_type": "markdown",
   "metadata": {
    "heading_collapsed": true,
    "hidden": true
   },
   "source": [
    "### 8. Update cell data  \n",
    "[Official Documentation Link](https://anaplanbulkapi20.docs.apiary.io/#/reference/update-module-cell-data)"
   ]
  },
  {
   "cell_type": "markdown",
   "metadata": {
    "hidden": true
   },
   "source": [
    "Notes  \n",
    "* Rate Limit - 1000 cells per request only\n",
    "* Item ID is interchangeable with item name, item code\n",
    "* Dimension ID is interchangeable with dimension name\n",
    "* Line Item ID is interchangeable with Line Item name\n",
    "* value cannot be null\n",
    "\n",
    "Worth reading the [full docs](https://anaplanbulkapi20.docs.apiary.io/#/reference/update-module-cell-data)"
   ]
  },
  {
   "cell_type": "code",
   "execution_count": null,
   "metadata": {
    "hidden": true
   },
   "outputs": [],
   "source": [
    "module_id = ''\n",
    "tran_url = f'https://api.anaplan.com/2/0/models/{accessM}/modules/{module_id}/data'\n",
    "\n",
    "header = {'Authorization' : auth,\n",
    "         'Accept' : 'application/json'}\n",
    "\n",
    "# In the empty quotes below input the IDs of LI, Dimension and respective Item of that dimension\n",
    "\n",
    "body = [\n",
    "    {\n",
    "      \"lineItemId\": \"\",\n",
    "      \"dimensions\": [\n",
    "          { \"dimensionId\": \"\", \"itemId\": \"\" }\n",
    "      ],\n",
    "      \"value\": 1111\n",
    "    }\n",
    "]\n",
    "\n",
    "request = requests.post(tran_url, headers = header, json = body)\n",
    "f = json.loads(request.text)\n",
    "print(f)\n",
    "\n",
    "# Example with names instead of IDs\n",
    "# In the empty quotes below input the names of LI, Dimension and respective Item of that dimension\n",
    "\n",
    "body = [\n",
    "    {\n",
    "      \"lineItemName\": \"\",\n",
    "      \"dimensions\": [\n",
    "          { \"dimensionName\": \"\", \"itemName\": \"\" }\n",
    "      ],\n",
    "      \"value\": 2222\n",
    "    }\n",
    "]\n",
    "\n",
    "request = requests.post(tran_url, headers = header, json = body)\n",
    "f = json.loads(request.text)\n",
    "print(f)\n"
   ]
  },
  {
   "cell_type": "markdown",
   "metadata": {
    "hidden": true
   },
   "source": [
    "Example of updating cell data with no dimensions"
   ]
  },
  {
   "cell_type": "code",
   "execution_count": null,
   "metadata": {
    "hidden": true
   },
   "outputs": [],
   "source": [
    "tran_url = f'https://api.anaplan.com/2/0/models/{accessM}/modules/{module_id}/data'\n",
    "\n",
    "header = {'Authorization' : auth,\n",
    "         'Accept' : 'application/json'}\n",
    "\n",
    "body = [\n",
    "    {\n",
    "      \"lineItemId\": \"\",\n",
    "      \"dimensions\": [\n",
    "      ],\n",
    "      \"value\": True\n",
    "    }\n",
    "]\n",
    "\n",
    "request = requests.post(tran_url, headers = header, json = body)\n",
    "f = json.loads(request.text)\n",
    "print(f)"
   ]
  },
  {
   "cell_type": "markdown",
   "metadata": {
    "heading_collapsed": true
   },
   "source": [
    "## SECTION II-C: Transactional APIs - List level\n",
    "Get Lists, Modify Lists"
   ]
  },
  {
   "cell_type": "markdown",
   "metadata": {
    "heading_collapsed": true,
    "hidden": true
   },
   "source": [
    "### 9. Get Lists and List Data  \n",
    "[Official Documentation Link](https://anaplanbulkapi20.docs.apiary.io/#/reference/model-lists)"
   ]
  },
  {
   "cell_type": "markdown",
   "metadata": {
    "heading_collapsed": true,
    "hidden": true
   },
   "source": [
    "#### 9.1 Retrieve List IDs"
   ]
  },
  {
   "cell_type": "markdown",
   "metadata": {
    "hidden": true
   },
   "source": [
    "Fetch all lists for further API calls"
   ]
  },
  {
   "cell_type": "code",
   "execution_count": null,
   "metadata": {
    "hidden": true
   },
   "outputs": [],
   "source": [
    "tran_url = f'https://api.anaplan.com/2/0/workspaces/{accessWS}/models/{accessM}/lists'\n",
    "\n",
    "header = {'Authorization' : auth,\n",
    "         'Accept' : 'application/json'}\n",
    "\n",
    "request = requests.get(tran_url, headers = header)\n",
    "lists = json.loads(request.text)\n",
    "print(lists['lists'])"
   ]
  },
  {
   "cell_type": "markdown",
   "metadata": {
    "hidden": true
   },
   "source": [
    "#### 9.2 Retrieve List Metadata"
   ]
  },
  {
   "cell_type": "markdown",
   "metadata": {
    "hidden": true
   },
   "source": [
    "Get Metadata against list similar to receiving metadata against line items"
   ]
  },
  {
   "cell_type": "code",
   "execution_count": null,
   "metadata": {
    "hidden": true
   },
   "outputs": [],
   "source": [
    "list_id = ''\n",
    "tran_url = f'https://api.anaplan.com/2/0/workspaces/{accessWS}/models/{accessM}/lists/{list_id}'\n",
    "\n",
    "header = {'Authorization' : auth,\n",
    "         'Accept' : 'application/json'}\n",
    "\n",
    "request = requests.get(tran_url, headers = header)\n",
    "lists_md = json.loads(request.text)\n",
    "print(lists_md['metadata'])"
   ]
  },
  {
   "cell_type": "markdown",
   "metadata": {
    "hidden": true
   },
   "source": [
    "#### 9.3 Retrieve List Items"
   ]
  },
  {
   "cell_type": "code",
   "execution_count": null,
   "metadata": {
    "hidden": true
   },
   "outputs": [],
   "source": [
    "list_id = ''\n",
    "\n",
    "# include all parameter may be removed or set to false\n",
    "tran_url = f'https://api.anaplan.com/2/0/workspaces/{accessWS}/models/{accessM}/lists/{list_id}/items?includeAll=True'\n",
    "\n",
    "\n",
    "# JSON request\n",
    "header = {'Authorization' : auth,\n",
    "         'Accept' : 'application/json'}\n",
    "\n",
    "request = requests.get(tran_url, headers = header)\n",
    "list_data = json.loads(request.text)\n",
    "print(list_data)\n",
    "    \n",
    "# CSV request\n",
    "header = {'Authorization' : auth,\n",
    "         'Accept' : 'text/csv'}\n",
    "\n",
    "request = requests.get(tran_url, headers = header)\n",
    "print(request.text)"
   ]
  },
  {
   "cell_type": "markdown",
   "metadata": {
    "hidden": true
   },
   "source": [
    "#### 9.4 Add member to List"
   ]
  },
  {
   "cell_type": "markdown",
   "metadata": {
    "hidden": true
   },
   "source": [
    "Only 100K members can be added in a single request  \n",
    "Numbered list will not accept name property  \n",
    "Both this request and 9.5 have a lot of nuance, visit official docs to learn more"
   ]
  },
  {
   "cell_type": "code",
   "execution_count": null,
   "metadata": {
    "hidden": true
   },
   "outputs": [],
   "source": [
    "list_id = ''\n",
    "tran_url = f'https://api.anaplan.com/2/0/workspaces/{accessWS}/models/{accessM}/lists/{list_id}/items?action=add'\n",
    "\n",
    "header = {'Authorization' : auth,\n",
    "         'Accept' : 'application/json'}\n",
    "\n",
    "body = {\n",
    "  \"items\": [\n",
    "    {\n",
    "      \"name\": \"Country X\",\n",
    "      \"code\": \"\",\n",
    "      \"parent\": \"AMER\",\n",
    "      \"properties\": {\n",
    "        \"pCurrency\":\"USD\"\n",
    "      },\n",
    "    \"subsets\": {\n",
    "    }\n",
    "  }\n",
    "  ]\n",
    "}\n",
    "\n",
    "request = requests.post(tran_url, headers = header, json = body)\n",
    "f = json.loads(request.text)\n",
    "print(f)"
   ]
  },
  {
   "cell_type": "markdown",
   "metadata": {
    "hidden": true
   },
   "source": [
    "#### 9.5 Update member of List"
   ]
  },
  {
   "cell_type": "markdown",
   "metadata": {
    "hidden": true
   },
   "source": [
    "Refer official docs for full details"
   ]
  },
  {
   "cell_type": "code",
   "execution_count": null,
   "metadata": {
    "hidden": true
   },
   "outputs": [],
   "source": [
    "tran_url = f'https://api.anaplan.com/2/0/workspaces/{accessWS}/models/{accessM}/lists/{list_id}/items'\n",
    "\n",
    "header = {'Authorization' : auth,\n",
    "         'Accept' : 'application/json'}\n",
    "\n",
    "body = {\n",
    "  \"items\": [\n",
    "    {\n",
    "      \"name\": \"Country X\",\n",
    "      \"code\": \"\",\n",
    "      \"parent\": \"APAC\",\n",
    "      \"properties\": {\n",
    "        \"pCurrency\":\"SGD\"\n",
    "      },\n",
    "    \"subsets\": {\n",
    "    }\n",
    "  }\n",
    "  ]\n",
    "}\n",
    "\n",
    "request = requests.put(tran_url, headers = header, json = body)\n",
    "f = json.loads(request.text)\n",
    "print(f)"
   ]
  },
  {
   "cell_type": "markdown",
   "metadata": {
    "hidden": true
   },
   "source": [
    "#### 9.6 Delete member of List"
   ]
  },
  {
   "cell_type": "markdown",
   "metadata": {
    "hidden": true
   },
   "source": [
    "Delete a particular member from the list permanently. Rate limited to 100K per request\n",
    "Code of the list may be submitted or the ID of the dimension member may be submitted as an \"id\" argument in the json"
   ]
  },
  {
   "cell_type": "code",
   "execution_count": null,
   "metadata": {
    "hidden": true
   },
   "outputs": [],
   "source": [
    "list_id = ''\n",
    "tran_url = f'https://api.anaplan.com/2/0/workspaces/{accessWS}/models/{accessM}/lists/{list_id}/items?action=delete'\n",
    "\n",
    "header = {'Authorization' : auth,\n",
    "         'Accept' : 'application/json'}\n",
    "\n",
    "body = {\n",
    "  \"items\": [\n",
    "    {\n",
    "      \"code\": \"SITE_190\"\n",
    "  }\n",
    "  ]\n",
    "}\n",
    "\n",
    "request = requests.post(tran_url, headers = header, json = body)\n",
    "f = json.loads(request.text)\n",
    "print(f)"
   ]
  },
  {
   "cell_type": "markdown",
   "metadata": {
    "heading_collapsed": true,
    "hidden": true
   },
   "source": [
    "### 10. Large Volume List Request  \n",
    "[Official Documentation Link](https://anaplanbulkapi20.docs.apiary.io/#/reference/read-large-volume-list-item-data)"
   ]
  },
  {
   "cell_type": "markdown",
   "metadata": {
    "hidden": true
   },
   "source": [
    "#### Preview request"
   ]
  },
  {
   "cell_type": "markdown",
   "metadata": {
    "hidden": true
   },
   "source": [
    "Preview the list data before downloading. Loads only 1000 rows. Must be a WSA"
   ]
  },
  {
   "cell_type": "code",
   "execution_count": null,
   "metadata": {
    "hidden": true
   },
   "outputs": [],
   "source": [
    "list_id = ''\n",
    "\n",
    "tran_url = f'https://api.anaplan.com/2/0/workspaces/{accessWS}/models/{accessM}/lists/{list_id}/preview'\n",
    "\n",
    "header = {'Authorization' : auth,\n",
    "         'Accept' : 'text/csv'}\n",
    "\n",
    "request = requests.get(tran_url, headers = header)\n",
    "print(request.text)"
   ]
  },
  {
   "cell_type": "markdown",
   "metadata": {
    "hidden": true
   },
   "source": [
    "#### Initiate request"
   ]
  },
  {
   "cell_type": "markdown",
   "metadata": {
    "hidden": true
   },
   "source": [
    "Initiate the request to read the large list"
   ]
  },
  {
   "cell_type": "code",
   "execution_count": null,
   "metadata": {
    "hidden": true
   },
   "outputs": [],
   "source": [
    "list_id = ''\n",
    "\n",
    "tran_url = f'https://api.anaplan.com/2/0/workspaces/{accessWS}/models/{accessM}/lists/{list_id}/readRequests'\n",
    "\n",
    "header = {'Authorization' : auth,\n",
    "         'Content-Type' : 'application/json'}\n",
    "\n",
    "request = requests.post(tran_url, headers = header)\n",
    "j = json.loads(request.text)\n",
    "req_id = j['listReadRequest']['requestId']\n",
    "print(j)\n",
    "print(j['listReadRequest']['requestState'])\n",
    "print(req_id)"
   ]
  },
  {
   "cell_type": "markdown",
   "metadata": {
    "hidden": true
   },
   "source": [
    "#### Check request status"
   ]
  },
  {
   "cell_type": "code",
   "execution_count": null,
   "metadata": {
    "hidden": true
   },
   "outputs": [],
   "source": [
    "tran_url = f'https://api.anaplan.com/2/0/workspaces/{accessWS}/models/{accessM}/lists/{list_id}/readRequests/{req_id}'\n",
    "\n",
    "header = {'Authorization' : auth,\n",
    "         'Accept' : 'application/json'}\n",
    "\n",
    "request = requests.get(tran_url, headers = header)\n",
    "f = json.loads(request.text)\n",
    "print('Number of pages: ')\n",
    "print(f['listReadRequest']['availablePages'])\n",
    "print(f['listReadRequest']['requestState'])"
   ]
  },
  {
   "cell_type": "markdown",
   "metadata": {
    "hidden": true
   },
   "source": [
    "#### Finally download the data. Loop this code for each available page and then concatenate the data"
   ]
  },
  {
   "cell_type": "code",
   "execution_count": null,
   "metadata": {
    "hidden": true
   },
   "outputs": [],
   "source": [
    "tran_url = f'https://api.anaplan.com/2/0/workspaces/{accessWS}/models/{accessM}/lists/{list_id}/readRequests/{req_id}/pages/0'\n",
    "\n",
    "header = {'Authorization' : auth,\n",
    "         'Accept' : 'text/csv'}\n",
    "\n",
    "request = requests.get(tran_url, headers = header)\n",
    "print(request.text)"
   ]
  },
  {
   "cell_type": "markdown",
   "metadata": {
    "hidden": true
   },
   "source": [
    "#### Delete read requests"
   ]
  },
  {
   "cell_type": "markdown",
   "metadata": {
    "hidden": true
   },
   "source": [
    "As per Anaplan:  \n",
    "\n",
    "As a best practice, use this call to clear all pages from completed exports as soon as you download all pages. Doing so will make space available for future exports.  \n",
    "The system will automatically reclaim space for read requests not accessed for over 30 minutes. The same applies to failed read requests."
   ]
  },
  {
   "cell_type": "code",
   "execution_count": null,
   "metadata": {
    "hidden": true
   },
   "outputs": [],
   "source": [
    "tran_url = f'https://api.anaplan.com/2/0/workspaces/{accessWS}/models/{accessM}/lists/{list_id}/readRequests/{req_id}'\n",
    "\n",
    "header = {'Authorization' : auth,\n",
    "         'Accept' : 'application/json'}\n",
    "\n",
    "request = requests.delete(tran_url, headers = header)\n",
    "f = json.loads(request.text)\n",
    "print(request.text)"
   ]
  },
  {
   "cell_type": "markdown",
   "metadata": {
    "heading_collapsed": true
   },
   "source": [
    "## SECTION II-D: Transactional APIs - Calendar/Versions/Users  \n",
    "Change Calendar settings, Change Version Settings, view user metadata etc"
   ]
  },
  {
   "cell_type": "markdown",
   "metadata": {
    "heading_collapsed": true,
    "hidden": true
   },
   "source": [
    "### 11. Model Calendar APIs  \n",
    "[Official Documentation Link](https://anaplanbulkapi20.docs.apiary.io/#/reference/model-calendar)"
   ]
  },
  {
   "cell_type": "markdown",
   "metadata": {
    "hidden": true
   },
   "source": [
    "#### 11.1 Retrieve Current Period"
   ]
  },
  {
   "cell_type": "markdown",
   "metadata": {
    "hidden": true
   },
   "source": [
    "Get the current period setting from the Time setting in the model"
   ]
  },
  {
   "cell_type": "code",
   "execution_count": null,
   "metadata": {
    "hidden": true
   },
   "outputs": [],
   "source": [
    "tran_url = f'https://api.anaplan.com/2/0/workspaces/{accessWS}/models/{accessM}/currentPeriod'\n",
    "\n",
    "header = {'Authorization' : auth,\n",
    "         'Accept' : 'application/json'}\n",
    "\n",
    "request = requests.get(tran_url, headers = header)\n",
    "cp = json.loads(request.text)\n",
    "print(cp)\n",
    "\n",
    "print(cp['currentPeriod']['periodText'])\n"
   ]
  },
  {
   "cell_type": "markdown",
   "metadata": {
    "hidden": true
   },
   "source": [
    "#### 11.2 Change Current Period"
   ]
  },
  {
   "cell_type": "markdown",
   "metadata": {
    "hidden": true
   },
   "source": [
    "Change the current period. Use the query parameter suffix. The format must be YYYY-MM-DD  \n",
    "Potentially destructive action. Execute with care"
   ]
  },
  {
   "cell_type": "code",
   "execution_count": null,
   "metadata": {
    "hidden": true
   },
   "outputs": [],
   "source": [
    "# input date variable here\n",
    "date = '2022-02-07'\n",
    "tran_url = f'https://api.anaplan.com/2/0/workspaces/{accessWS}/models/{accessM}/currentPeriod?date={date}'\n",
    "\n",
    "header = {'Authorization' : auth,\n",
    "          'Accept' : 'application/json',\n",
    "         'Content-Type' : 'application/json'}\n",
    "\n",
    "request = requests.put(tran_url, headers = header)\n",
    "print(request.text)"
   ]
  },
  {
   "cell_type": "markdown",
   "metadata": {
    "hidden": true
   },
   "source": [
    "#### 11.3 Retrieve Current FY"
   ]
  },
  {
   "cell_type": "markdown",
   "metadata": {},
   "source": [
    "Get the current Financial year setting in the model calendar"
   ]
  },
  {
   "cell_type": "code",
   "execution_count": null,
   "metadata": {
    "hidden": true
   },
   "outputs": [],
   "source": [
    "tran_url = f'https://api.anaplan.com/2/0/workspaces/{accessWS}/models/{accessM}/modelCalendar'\n",
    "\n",
    "header = {'Authorization' : auth,\n",
    "         'Accept' : 'application/json'}\n",
    "\n",
    "request = requests.get(tran_url, headers = header)\n",
    "mc = json.loads(request.text)\n",
    "print(mc)\n",
    "\n",
    "print(mc['modelCalendar']['fiscalYear'])\n"
   ]
  },
  {
   "cell_type": "markdown",
   "metadata": {
    "hidden": true
   },
   "source": [
    "#### 11.4 Change Current FY"
   ]
  },
  {
   "cell_type": "markdown",
   "metadata": {},
   "source": [
    "Potentially destructive action. Execute with caution"
   ]
  },
  {
   "cell_type": "code",
   "execution_count": null,
   "metadata": {
    "hidden": true
   },
   "outputs": [],
   "source": [
    "tran_url = f'https://api.anaplan.com/2/0/workspaces/{accessWS}/models/{accessM}/modelCalendar/fiscalYear'\n",
    "\n",
    "header = {'Authorization' : auth,\n",
    "          'Accept' : 'application/json',\n",
    "         'Content-Type' : 'application/json'}\n",
    "\n",
    "# Input the year here\n",
    "body = {'year' : 'FY23'}\n",
    "\n",
    "request = requests.put(tran_url, headers = header, json = body)\n",
    "print(request.text)"
   ]
  },
  {
   "cell_type": "markdown",
   "metadata": {
    "heading_collapsed": true,
    "hidden": true
   },
   "source": [
    "### 12. Version APIs  \n",
    "[Official Documentation Link](https://anaplanbulkapi20.docs.apiary.io/#/reference/model-versions)"
   ]
  },
  {
   "cell_type": "markdown",
   "metadata": {
    "hidden": true
   },
   "source": [
    "#### 12.1 Retrieve Version Metdata"
   ]
  },
  {
   "cell_type": "markdown",
   "metadata": {
    "hidden": true
   },
   "source": [
    "Get current Anaplan versions and respective settings"
   ]
  },
  {
   "cell_type": "code",
   "execution_count": null,
   "metadata": {
    "hidden": true
   },
   "outputs": [],
   "source": [
    "tran_url = f'https://api.anaplan.com/2/0/models/{accessM}/versions/'\n",
    "\n",
    "header = {'Authorization' : auth,\n",
    "         'Accept' : 'application/json'}\n",
    "\n",
    "request = requests.get(tran_url, headers = header)\n",
    "vs = json.loads(request.text)\n",
    "\n",
    "print(vs['versionMetadata'])\n",
    "\n",
    "version_id = vs['versionMetadata'][1]['id']\n",
    "print(version_id)"
   ]
  },
  {
   "cell_type": "markdown",
   "metadata": {
    "hidden": true
   },
   "source": [
    "#### 12.2 Change Switchover Period"
   ]
  },
  {
   "cell_type": "markdown",
   "metadata": {
    "hidden": true
   },
   "source": [
    "Change the switchover period for a given version. Version ID can be extracted from the above request  \n",
    "Potentially destructive action. Execute with caution"
   ]
  },
  {
   "cell_type": "code",
   "execution_count": null,
   "metadata": {
    "hidden": true
   },
   "outputs": [],
   "source": [
    "tran_url = f'https://api.anaplan.com/2/0/models/{accessM}/versions/{version_id}/switchover'\n",
    "\n",
    "header = {'Authorization' : auth,\n",
    "         'Content-Type' : 'application/json'}\n",
    "\n",
    "body = {'date' : '2023-02-13'}\n",
    "\n",
    "request = requests.put(tran_url, headers = header, json = body)\n",
    "print(request.text)"
   ]
  },
  {
   "cell_type": "markdown",
   "metadata": {
    "hidden": true
   },
   "source": [
    "### 13. User APIs  \n",
    "[Official Documentation Link](https://anaplanbulkapi20.docs.apiary.io/#/reference/users)"
   ]
  },
  {
   "cell_type": "markdown",
   "metadata": {
    "hidden": true
   },
   "source": [
    "#### 13.1 Retrieve All users in tenant"
   ]
  },
  {
   "cell_type": "markdown",
   "metadata": {
    "hidden": true
   },
   "source": [
    "Get all user details in the tenant"
   ]
  },
  {
   "cell_type": "code",
   "execution_count": null,
   "metadata": {
    "hidden": true
   },
   "outputs": [],
   "source": [
    "user_url = 'https://api.anaplan.com/2/0/users/'\n",
    "header = {'Authorization' : auth}\n",
    "\n",
    "request = requests.get(user_url, headers = header)\n",
    "user = json.loads(request.text)\n",
    "\n",
    "print(user)"
   ]
  },
  {
   "cell_type": "markdown",
   "metadata": {
    "hidden": true
   },
   "source": [
    "#### 13.2 Retrieve Your user in the tenant"
   ]
  },
  {
   "cell_type": "markdown",
   "metadata": {
    "hidden": true
   },
   "source": [
    "Get your user details"
   ]
  },
  {
   "cell_type": "code",
   "execution_count": null,
   "metadata": {
    "hidden": true
   },
   "outputs": [],
   "source": [
    "user_url = 'https://api.anaplan.com/2/0/users/me'\n",
    "header = {'Authorization' : auth}\n",
    "\n",
    "request = requests.get(user_url, headers = header)\n",
    "user = json.loads(request.text)\n",
    "\n",
    "print(user)"
   ]
  },
  {
   "cell_type": "markdown",
   "metadata": {
    "hidden": true
   },
   "source": [
    "#### 13.2 Retrieve a specific user"
   ]
  },
  {
   "cell_type": "markdown",
   "metadata": {
    "hidden": true
   },
   "source": [
    "Get a specific user details through ID"
   ]
  },
  {
   "cell_type": "code",
   "execution_count": null,
   "metadata": {
    "hidden": true
   },
   "outputs": [],
   "source": [
    "user_id = '8a81b01271f9028d01720424fb9a5bc6'\n",
    "user_url = f'https://api.anaplan.com/2/0/users/{user_id}'\n",
    "header = {'Authorization' : auth}\n",
    "\n",
    "request = requests.get(user_url, headers = header)\n",
    "user = json.loads(request.text)\n",
    "\n",
    "print(user)"
   ]
  },
  {
   "cell_type": "markdown",
   "metadata": {
    "heading_collapsed": true
   },
   "source": [
    "## SECTION III: All Bulk APIs  \n",
    "Imports/Exports/Actions/Processes and their metadata. Run any task in Anaplan"
   ]
  },
  {
   "cell_type": "markdown",
   "metadata": {
    "hidden": true
   },
   "source": [
    "Variables to control which workspace and model is being accessed. Cannot proceed with any of the requests below unless WS ID and Model ID are set here"
   ]
  },
  {
   "cell_type": "code",
   "execution_count": null,
   "metadata": {
    "hidden": true
   },
   "outputs": [],
   "source": [
    "accessWS = ''\n",
    "accessM = ''\n",
    "print('Set!')"
   ]
  },
  {
   "cell_type": "markdown",
   "metadata": {
    "heading_collapsed": true,
    "hidden": true
   },
   "source": [
    "### 1. Flat file upload  \n",
    "[Official Documentation Link](https://anaplanbulkapi20.docs.apiary.io/#Upload-files)"
   ]
  },
  {
   "cell_type": "markdown",
   "metadata": {
    "hidden": true
   },
   "source": [
    "Chunking always done before file upload. Specify chunk in MB with chunk_size. Anaplan maximum is 50MB per chunk  \n",
    "Note neither the begin request nor the complete request are entirely necessary.  \n",
    "\n",
    "Put request returns a No Content 204 response  \n",
    "The other two requests return 200"
   ]
  },
  {
   "cell_type": "code",
   "execution_count": null,
   "metadata": {
    "hidden": true
   },
   "outputs": [],
   "source": [
    "import pathlib\n",
    "\n",
    "fileName = ''\n",
    "file_size = pathlib.Path(fileName).stat().st_size\n",
    "\n",
    "fileID = ''\n",
    "chunk_size = 10 #Set this in megabytes\n",
    "megabyte = 1048576\n",
    "\n",
    "uploadFile_url = f'https://api.anaplan.com/2/0/workspaces/{accessWS}/models/{accessM}/files/{fileID}'\n",
    "\n",
    "startHeader = {'Authorization' : auth,\n",
    "              'Content-Type' : 'application/json'}\n",
    "\n",
    "putHeader = {'Authorization' : auth,\n",
    "          'Content-Type' : 'application/octet-stream'}\n",
    "\n",
    "\n",
    "# If you know the exact chunkCount then put that in place of -1 else leave as is\n",
    "bodyBegin = {'id' : fileID,\n",
    "            'chunkCount' : -1}\n",
    "\n",
    "bodyComplete = {'id' : fileID,\n",
    "               'chunkCount' : file_size/(megabyte * chunk_size)}\n",
    "\n",
    "# Inform server that upload is beginning\n",
    "beginUpload_request = requests.post(url = uploadFile_url, headers = startHeader, json = bodyBegin)\n",
    "\n",
    "# request.ok confirms that file id is acceptable\n",
    "if beginUpload_request.ok:\n",
    "    print('Beginning upload...')\n",
    "    chunkNum = 0\n",
    "    with open(fileName, 'rt') as f:\n",
    "        \n",
    "        # readlines with argument to read initial section for the loop\n",
    "        chunkedData = f.readlines(chunk_size * megabyte)\n",
    "        \n",
    "        # this while loop returns false when readlines runs out of bytes to read\n",
    "        while chunkedData:\n",
    "            upload_data = ''\n",
    "            \n",
    "            for line in chunkedData:\n",
    "                upload_data += line\n",
    "            \n",
    "            # upload chunk with byte specified by chunk_size\n",
    "            putUpload_request = requests.put(uploadFile_url + '/chunks/' + str(chunkNum),\n",
    "                                            headers = putHeader, data = upload_data)\n",
    "            # 204 expected\n",
    "            print(f'Uploading {chunkNum}. Reported status code: {putUpload_request.status_code}')\n",
    "            chunkedData = f.readlines(chunk_size * megabyte)\n",
    "            chunkNum += 1\n",
    "            \n",
    "    # Mark upload as complete\n",
    "    completeUpload_request = requests.post(url = uploadFile_url + '/complete', headers = startHeader, json = bodyComplete)\n",
    "    print(completeUpload_request.text)\n",
    "else:\n",
    "    print('Unable to upload, please check fileID and metadata')"
   ]
  },
  {
   "cell_type": "markdown",
   "metadata": {
    "heading_collapsed": true,
    "hidden": true
   },
   "source": [
    "### 2. Import Actions - 112  \n",
    "[Official Documentation Link](https://anaplanbulkapi20.docs.apiary.io/#Import)"
   ]
  },
  {
   "cell_type": "markdown",
   "metadata": {
    "heading_collapsed": true,
    "hidden": true
   },
   "source": [
    "#### 2.1 Get All Import Actions"
   ]
  },
  {
   "cell_type": "markdown",
   "metadata": {
    "hidden": true
   },
   "source": [
    "Get the list of imports in the model. Saved locally as imports.json"
   ]
  },
  {
   "cell_type": "code",
   "execution_count": null,
   "metadata": {
    "hidden": true
   },
   "outputs": [],
   "source": [
    "imports_url = f'https://api.anaplan.com/2/0/workspaces/{accessWS}/models/{accessM}/imports'\n",
    "header = {'Authorization' : auth}\n",
    "\n",
    "request = requests.get(imports_url, headers = header)\n",
    "imports = json.loads(request.text)\n",
    "\n",
    "print(imports['imports'])"
   ]
  },
  {
   "cell_type": "markdown",
   "metadata": {
    "heading_collapsed": true,
    "hidden": true
   },
   "source": [
    "#### 2.2 Get import action metadata"
   ]
  },
  {
   "cell_type": "markdown",
   "metadata": {
    "hidden": true
   },
   "source": [
    "Get info of mappings in the import action. Very useful to get file mappings in json array"
   ]
  },
  {
   "cell_type": "code",
   "execution_count": null,
   "metadata": {
    "hidden": true
   },
   "outputs": [],
   "source": [
    "import_id = ''\n",
    "imports_url = f'https://api.anaplan.com/2/0/workspaces/{accessWS}/models/{accessM}/imports/{import_id}/'\n",
    "header = {'Authorization' : auth}\n",
    "\n",
    "request = requests.get(imports_url, headers = header)\n",
    "imports = request.text\n",
    "\n",
    "print(imports)"
   ]
  },
  {
   "cell_type": "markdown",
   "metadata": {
    "heading_collapsed": true,
    "hidden": true
   },
   "source": [
    "### 3. Export Actions - 113/116  \n",
    "[Official Documentation Link](https://anaplanbulkapi20.docs.apiary.io/#Export)"
   ]
  },
  {
   "cell_type": "markdown",
   "metadata": {
    "heading_collapsed": true,
    "hidden": true
   },
   "source": [
    "#### 3.1 Get Exports/Files"
   ]
  },
  {
   "cell_type": "markdown",
   "metadata": {
    "hidden": true
   },
   "source": [
    "Get the list of exports in the model. Replace the word exports with files to get both Upload files (113) and Export files (116)"
   ]
  },
  {
   "cell_type": "code",
   "execution_count": null,
   "metadata": {
    "hidden": true,
    "jupyter": {
     "outputs_hidden": true
    }
   },
   "outputs": [],
   "source": [
    "exports_url = f'https://api.anaplan.com/2/0/workspaces/{accessWS}/models/{accessM}/files'\n",
    "# exports_url = f'https://api.anaplan.com/2/0/workspaces/{accessWS}/models/{accessM}/exports'\n",
    "header = {'Authorization' : auth}\n",
    "\n",
    "request = requests.get(exports_url, headers = header)\n",
    "exports = json.loads(request.text)\n",
    "\n",
    "print(exports)"
   ]
  },
  {
   "cell_type": "markdown",
   "metadata": {
    "heading_collapsed": true,
    "hidden": true
   },
   "source": [
    "#### 3.2 Get Exports Action metadata"
   ]
  },
  {
   "cell_type": "markdown",
   "metadata": {
    "hidden": true
   },
   "source": [
    "Get metadata of the data being exported from the file. To download the file go to Download Files Section"
   ]
  },
  {
   "cell_type": "code",
   "execution_count": null,
   "metadata": {
    "hidden": true,
    "jupyter": {
     "outputs_hidden": true
    }
   },
   "outputs": [],
   "source": [
    "export_id = ''\n",
    "exports_url = f'https://api.anaplan.com/2/0/workspaces/{accessWS}/models/{accessM}/exports/{export_id}'\n",
    "header = {'Authorization' : auth}\n",
    "\n",
    "request = requests.get(exports_url, headers = header)\n",
    "exports = json.loads(request.text)\n",
    "\n",
    "print(exports)"
   ]
  },
  {
   "cell_type": "markdown",
   "metadata": {
    "heading_collapsed": true,
    "hidden": true
   },
   "source": [
    "### 4. Model Actions - 117  \n",
    "[Official Documentation Link](https://anaplanbulkapi20.docs.apiary.io/#Actions)"
   ]
  },
  {
   "cell_type": "markdown",
   "metadata": {
    "heading_collapsed": true,
    "hidden": true
   },
   "source": [
    "#### 4.1 Get Actions"
   ]
  },
  {
   "cell_type": "markdown",
   "metadata": {
    "hidden": true
   },
   "source": [
    "Get the list of actions in the model. Very comprehensive notes in the official docs"
   ]
  },
  {
   "cell_type": "code",
   "execution_count": null,
   "metadata": {
    "hidden": true
   },
   "outputs": [],
   "source": [
    "actions_url = f'https://api.anaplan.com/2/0/workspaces/{accessWS}/models/{accessM}/actions'\n",
    "header = {'Authorization' : auth}\n",
    "\n",
    "request = requests.get(actions_url, headers = header)\n",
    "actions = json.loads(request.text)\n",
    "print(actions)"
   ]
  },
  {
   "cell_type": "markdown",
   "metadata": {
    "heading_collapsed": true,
    "hidden": true
   },
   "source": [
    "#### 4.2 Get Action metadata"
   ]
  },
  {
   "cell_type": "markdown",
   "metadata": {
    "hidden": true
   },
   "source": [
    "Get metadata of the specified action"
   ]
  },
  {
   "cell_type": "code",
   "execution_count": null,
   "metadata": {
    "hidden": true,
    "jupyter": {
     "outputs_hidden": true
    }
   },
   "outputs": [],
   "source": [
    "action_id = ''\n",
    "exports_url = f'https://api.anaplan.com/2/0/workspaces/{accessWS}/models/{accessM}/actions/{action_id}'\n",
    "header = {'Authorization' : auth}\n",
    "\n",
    "request = requests.get(exports_url, headers = header)\n",
    "actions = json.loads(request.text)\n",
    "\n",
    "print(actions)"
   ]
  },
  {
   "cell_type": "markdown",
   "metadata": {
    "heading_collapsed": true,
    "hidden": true
   },
   "source": [
    "### 5. Model Processes - 118  \n",
    "[Official Documentation Link](https://anaplanbulkapi20.docs.apiary.io/#Process)"
   ]
  },
  {
   "cell_type": "markdown",
   "metadata": {
    "hidden": true
   },
   "source": [
    "#### 5.1 Get Processes"
   ]
  },
  {
   "cell_type": "markdown",
   "metadata": {
    "hidden": true
   },
   "source": [
    "Get the list of processes in the model"
   ]
  },
  {
   "cell_type": "code",
   "execution_count": null,
   "metadata": {
    "hidden": true
   },
   "outputs": [],
   "source": [
    "processes_url = f'https://api.anaplan.com/2/0/workspaces/{accessWS}/models/{accessM}/processes'\n",
    "header = {'Authorization' : auth}\n",
    "\n",
    "request = requests.get(processes_url, headers = header)\n",
    "processes = json.loads(request.text)\n",
    "\n",
    "print(processes['processes'])"
   ]
  },
  {
   "cell_type": "markdown",
   "metadata": {
    "hidden": true
   },
   "source": [
    "#### 5.2 Get Process Metadata"
   ]
  },
  {
   "cell_type": "markdown",
   "metadata": {
    "hidden": true
   },
   "source": [
    "Get metadata against any given process"
   ]
  },
  {
   "cell_type": "code",
   "execution_count": null,
   "metadata": {
    "hidden": true
   },
   "outputs": [],
   "source": [
    "process_id = ''\n",
    "processes_url = f'https://api.anaplan.com/2/0/workspaces/{accessWS}/models/{accessM}/processes/{process_id}'\n",
    "header = {'Authorization' : auth}\n",
    "\n",
    "request = requests.get(processes_url, headers = header)\n",
    "processes = json.loads(request.text)\n",
    "\n",
    "print(processes['processMetadata'])"
   ]
  },
  {
   "cell_type": "markdown",
   "metadata": {
    "heading_collapsed": true,
    "hidden": true
   },
   "source": [
    "### 6. Run/Monitor/Download Failure Logs\n",
    "Common code for Imports/Exports/Actions/Processes"
   ]
  },
  {
   "cell_type": "markdown",
   "metadata": {
    "hidden": true
   },
   "source": [
    "#### 6.1 Run Import/Export/Action/Process"
   ]
  },
  {
   "cell_type": "markdown",
   "metadata": {
    "hidden": true
   },
   "source": [
    "Run an import, export or an action; define the ID  \n",
    "Auto check if provided ID is an export, import or task  \n",
    "Expected response: 200"
   ]
  },
  {
   "cell_type": "code",
   "execution_count": null,
   "metadata": {
    "hidden": true
   },
   "outputs": [],
   "source": [
    "# Input any 112, 116, 118 or 117 ID here and code will run that action\n",
    "# Run, Monitor, check failure log is same code for all 4 types of tasks\n",
    "\n",
    "action_id = ''\n",
    "\n",
    "if action_id[:3] == '112':\n",
    "    actions = 'imports'\n",
    "elif action_id[:3] == '116':\n",
    "    actions = 'exports'\n",
    "elif action_id[:3] == '118':\n",
    "    actions = 'processes'\n",
    "else:\n",
    "    actions = 'actions'\n",
    "runAction_url = f'https://api.anaplan.com/2/0/workspaces/{accessWS}/models/{accessM}/{actions}/{action_id}/tasks'\n",
    "\n",
    "header = {'Authorization' : auth,\n",
    "          'Content-Type' : 'application/json'}\n",
    "\n",
    "body = {'localeName' : 'en_US'}\n",
    "\n",
    "request = requests.post(runAction_url, headers = header, json = body)\n",
    "print(request.text)\n",
    "\n",
    "f = json.loads(request.text)\n",
    "task_id = f[\"task\"][\"taskId\"]\n",
    "print(task_id)"
   ]
  },
  {
   "cell_type": "markdown",
   "metadata": {
    "hidden": true
   },
   "source": [
    "#### 6.2 Get a list of all tasks against the provided action"
   ]
  },
  {
   "cell_type": "markdown",
   "metadata": {
    "hidden": true
   },
   "source": [
    "Whenever any action is triggered on Anaplan it returns a Task ID for further monitoring. Run this to view all Task IDs against the action. Task IDs are stored in the model for 48 hours"
   ]
  },
  {
   "cell_type": "code",
   "execution_count": null,
   "metadata": {
    "hidden": true
   },
   "outputs": [],
   "source": [
    "imports_url = f'https://api.anaplan.com/2/0/workspaces/{accessWS}/models/{accessM}/{actions}/{action_id}/tasks'\n",
    "header = {'Authorization' : auth}\n",
    "\n",
    "request = requests.get(imports_url, headers = header)\n",
    "req = json.loads(request.text)\n",
    "\n",
    "print(req['tasks'])"
   ]
  },
  {
   "cell_type": "markdown",
   "metadata": {
    "hidden": true
   },
   "source": [
    "#### 6.3 Monitor Given Task"
   ]
  },
  {
   "cell_type": "markdown",
   "metadata": {
    "hidden": true
   },
   "source": [
    "Monitor the live status of a given task. Failure dump ID will also be available if there are any failure logs to review. If using this call for a process, the failure log is returned for each action in that process as well as for the process itself. Note the json object carefully. To download the failure log from an action within a process, note down the object ID "
   ]
  },
  {
   "cell_type": "code",
   "execution_count": null,
   "metadata": {
    "hidden": true
   },
   "outputs": [],
   "source": [
    "imports_url = f'https://api.anaplan.com/2/0/workspaces/{accessWS}/models/{accessM}/{actions}/{action_id}/tasks/{task_id}'\n",
    "header = {'Authorization' : auth}\n",
    "\n",
    "request = requests.get(imports_url, headers = header)\n",
    "req = json.loads(request.text)\n",
    "\n",
    "print(req['task'])\n",
    "print(f'Failure dump available is: ' + str(req['task']['result']['failureDumpAvailable']))"
   ]
  },
  {
   "cell_type": "markdown",
   "metadata": {
    "hidden": true
   },
   "source": [
    "#### 6.4 Download failure dump"
   ]
  },
  {
   "cell_type": "markdown",
   "metadata": {
    "hidden": true
   },
   "source": [
    "Download the csv dump that Anaplan also presents in the front end if this action fails. Specify object ID if this failure log required for a specific action within the process. If failure log on whole process is required, use the first URL. if failure log on only one action within a process is required, use the second URL"
   ]
  },
  {
   "cell_type": "code",
   "execution_count": null,
   "metadata": {
    "hidden": true
   },
   "outputs": [],
   "source": [
    "imports_url = f'https://api.anaplan.com/2/0/workspaces/{accessWS}/models/{accessM}/{actions}/{action_id}/tasks/{task_id}/dump'\n",
    "# imports_url = f'https://api.anaplan.com/2/0/workspaces/{accessWS}/models/{accessM}/{actions}/{action_id}/tasks/{task_id}/dumps/{object_id}'\n",
    "header = {'Authorization' : auth}\n",
    "\n",
    "request = requests.get(imports_url, headers = header)\n",
    "req = request.text\n",
    "\n",
    "print(req)"
   ]
  },
  {
   "cell_type": "markdown",
   "metadata": {
    "heading_collapsed": true,
    "hidden": true
   },
   "source": [
    "### 7. Download Files - 113/116\n",
    "[Official Documentation Link](https://anaplanbulkapi20.docs.apiary.io/#Download-files)"
   ]
  },
  {
   "cell_type": "markdown",
   "metadata": {
    "hidden": true
   },
   "source": [
    "#### 7.1 Download Export file; chunk count"
   ]
  },
  {
   "cell_type": "markdown",
   "metadata": {
    "hidden": true
   },
   "source": [
    "To get the list of available files in the model check the Export Actions section. This can apply to either an export ID or an uploaded file  \n",
    "This call only returns the number of chunks in the export file"
   ]
  },
  {
   "cell_type": "code",
   "execution_count": null,
   "metadata": {
    "hidden": true
   },
   "outputs": [],
   "source": [
    "export_id = ''\n",
    "exportChunk_url = f'https://api.anaplan.com/2/0/workspaces/{accessWS}/models/{accessM}/files/{export_id}/chunks'\n",
    "\n",
    "header = {'Authorization' : auth,\n",
    "          'Content-Type' : 'application/json'\n",
    "          }\n",
    "\n",
    "# Get Chunk IDs\n",
    "chunkRequest = requests.get(exportChunk_url, headers = header)\n",
    "print(request.text)"
   ]
  },
  {
   "cell_type": "markdown",
   "metadata": {
    "hidden": true
   },
   "source": [
    "#### 7.2 Download Export file; file"
   ]
  },
  {
   "cell_type": "markdown",
   "metadata": {
    "hidden": true
   },
   "source": [
    "Each chunk must be downloaded and combined manually  \n",
    "Note this code just dumps as txt file. Change per export"
   ]
  },
  {
   "cell_type": "code",
   "execution_count": null,
   "metadata": {
    "hidden": true
   },
   "outputs": [],
   "source": [
    "download_url = f'https://api.anaplan.com/2/0/workspaces/{accessWS}/models/{accessM}/files/{export_id}/chunks/'\n",
    "\n",
    "header = {'Authorization' : auth,\n",
    "           'Content-Type': 'application/octet-stream'\n",
    "          }\n",
    "\n",
    "download_export = ''\n",
    "for download_chunk in chunkRequest['chunks']:\n",
    "    chunk_id = download_chunk['id']\n",
    "    print(f'Downloading chunk ID: {chunk_id}')\n",
    "    request = requests.get(f'{download_url}/{chunk_id}', headers = header)\n",
    "    download_export += request.text\n",
    "\n",
    "print(request.text)"
   ]
  },
  {
   "cell_type": "markdown",
   "metadata": {
    "hidden": true
   },
   "source": [
    "#### 7.3 Delete Upload file"
   ]
  },
  {
   "cell_type": "markdown",
   "metadata": {
    "hidden": true
   },
   "source": [
    "Delete Files uploaded via API. Applies to 113 only. Returns 204 code only. Nothing else in the request text"
   ]
  },
  {
   "cell_type": "code",
   "execution_count": null,
   "metadata": {
    "hidden": true
   },
   "outputs": [],
   "source": [
    "delete_url = f'https://api.anaplan.com/2/0/workspaces/{accessWS}/models/{accessM}/files/{export_id}'\n",
    "\n",
    "header = {'Authorization' : auth,\n",
    "          'Content-Type' : 'application/json'\n",
    "          }\n",
    "\n",
    "request = requests.delete(delete_url, headers = header)\n",
    "print(request)"
   ]
  },
  {
   "cell_type": "markdown",
   "metadata": {
    "heading_collapsed": true
   },
   "source": [
    "## SECTION IV: ALM APIs  \n",
    "All actions wrt Application Lifecycle management in Anaplan  \n",
    "[Official Documentation Link for ALM](https://almapi.docs.apiary.io/)  "
   ]
  },
  {
   "cell_type": "markdown",
   "metadata": {
    "hidden": true
   },
   "source": [
    "Variables to control which workspace and model is being accessed. Cannot proceed with any of the requests below unless WS ID and Model ID are set here"
   ]
  },
  {
   "cell_type": "code",
   "execution_count": null,
   "metadata": {
    "hidden": true
   },
   "outputs": [],
   "source": [
    "dev_ws = ''\n",
    "dev_model = ''\n",
    "\n",
    "prod_ws = ''\n",
    "prod_model = ''\n",
    "print('Set!')"
   ]
  },
  {
   "cell_type": "markdown",
   "metadata": {
    "hidden": true
   },
   "source": [
    "### 1. Change Model's Online/Offline Status"
   ]
  },
  {
   "cell_type": "markdown",
   "metadata": {
    "hidden": true
   },
   "source": [
    "Use this to coordinate downtime on a production model"
   ]
  },
  {
   "cell_type": "code",
   "execution_count": null,
   "metadata": {
    "hidden": true
   },
   "outputs": [],
   "source": [
    "alm_status_url = f'https://api.anaplan.com/2/0/models/{prod_model}/onlineStatus'\n",
    "header = {'Authorization' : auth,\n",
    "         'Content-Type' : 'application/json'\n",
    "         }\n",
    "# Uncomment the status you want to apply\n",
    "body = {'status' : 'online'}\n",
    "# body = {'status' : 'offline'}\n",
    "\n",
    "request = requests.put(alm_status_url, headers = header, json = body)\n",
    "print(request)"
   ]
  },
  {
   "cell_type": "markdown",
   "metadata": {
    "hidden": true
   },
   "source": [
    "### 2. Fetch Source Model RT IDs"
   ]
  },
  {
   "cell_type": "markdown",
   "metadata": {
    "hidden": true
   },
   "source": [
    "Fetch all RTs compatible with the production model structure from a given dev model"
   ]
  },
  {
   "cell_type": "code",
   "execution_count": null,
   "metadata": {
    "hidden": true
   },
   "outputs": [],
   "source": [
    "# Note: deployed model ID needs to be provided\n",
    "alm_sync_url = f'https://api.anaplan.com/2/0/models/{prod_model}/alm/syncableRevisions?sourceModelId={dev_model}'\n",
    "\n",
    "header = {'Authorization' : auth,\n",
    "          'Content-Type' : 'application/json'\n",
    "         }\n",
    "\n",
    "request = requests.get(alm_sync_url, headers = header)\n",
    "print(request.text)\n",
    "f = json.loads(request.text)\n",
    "\n",
    "try:\n",
    "    source_id = f['revisions'][0]['id']\n",
    "except:\n",
    "    source_id = \"\"\n",
    "    print('No Valid RT found in selected source model')\n",
    "\n",
    "print(source_id)"
   ]
  },
  {
   "cell_type": "markdown",
   "metadata": {
    "hidden": true
   },
   "source": [
    "### 3. Fetch Latest Model RT ID"
   ]
  },
  {
   "cell_type": "markdown",
   "metadata": {
    "hidden": true
   },
   "source": [
    "Fetch only the latest RT from the production model"
   ]
  },
  {
   "cell_type": "code",
   "execution_count": null,
   "metadata": {
    "hidden": true
   },
   "outputs": [],
   "source": [
    "alm_sync_url = f'https://api.anaplan.com/2/0/models/{prod_model}/alm/latestRevision'\n",
    "\n",
    "header = {'Authorization' : auth,\n",
    "          'Content-Type' : 'application/json'\n",
    "         }\n",
    "\n",
    "request = requests.get(alm_sync_url, headers = header)\n",
    "\n",
    "print(request.text)\n",
    "f = json.loads(request.text)\n",
    "target_id = f['revisions'][0]['id']\n",
    "print(target_id)"
   ]
  },
  {
   "cell_type": "markdown",
   "metadata": {
    "hidden": true
   },
   "source": [
    "### 4. Sync from Source to Target"
   ]
  },
  {
   "cell_type": "markdown",
   "metadata": {
    "hidden": true
   },
   "source": [
    "Perform the sync and review errors if any"
   ]
  },
  {
   "cell_type": "code",
   "execution_count": null,
   "metadata": {
    "hidden": true,
    "scrolled": true
   },
   "outputs": [],
   "source": [
    "alm_sync_url = f'https://api.anaplan.com/2/0/models/{prod_model}/alm/syncTasks'\n",
    "header = {'Authorization' : auth,\n",
    "         'Content-Type' : 'application/json'\n",
    "         }\n",
    "\n",
    "body = {\n",
    "      \"sourceRevisionId\": f\"{source_id}\",\n",
    "      \"sourceModelId\": f\"{dev_model}\",\n",
    "      \"targetRevisionId\": f\"{target_id}\"\n",
    "        }\n",
    "\n",
    "\n",
    "request = requests.post(alm_sync_url, headers = header, json = body)\n",
    "print(request.text)\n",
    "\n",
    "f = json.loads(request.text)\n",
    "\n",
    "try:\n",
    "    f['status']['code'] = 201\n",
    "    task_id = f['task']['taskId']\n",
    "except:\n",
    "    task_id = \"\"\n",
    "    print('Sync not performed')\n",
    "\n",
    "print(task_id)"
   ]
  },
  {
   "cell_type": "markdown",
   "metadata": {
    "hidden": true
   },
   "source": [
    "### 6. Track Sync Task Progress"
   ]
  },
  {
   "cell_type": "markdown",
   "metadata": {
    "hidden": true
   },
   "source": [
    "Specify a particular task and view its current status"
   ]
  },
  {
   "cell_type": "code",
   "execution_count": null,
   "metadata": {
    "hidden": true
   },
   "outputs": [],
   "source": [
    "alm_sync_url = f'https://api.anaplan.com/2/0/models/{prod_model}/alm/syncTasks/{task_id}'\n",
    "\n",
    "header = {'Authorization' : auth\n",
    "         }\n",
    "\n",
    "request = requests.get(alm_sync_url, headers = header, json = body)\n",
    "print(request.text)\n",
    "f = json.loads(request.text)\n",
    "\n",
    "sync_bool = f['task']['result']['successful']\n",
    "\n",
    "if sync_bool == True:\n",
    "    print('Successfully synced')\n",
    "else:\n",
    "    print('Encountered error in sync:\\n')\n",
    "    print({f['task']['result']['error']['messageText']})\n",
    "    print({f['task']['result']['error']['messageText']})"
   ]
  },
  {
   "cell_type": "markdown",
   "metadata": {
    "hidden": true
   },
   "source": [
    "### 7. Track all sync tasks"
   ]
  },
  {
   "cell_type": "markdown",
   "metadata": {
    "hidden": true
   },
   "source": [
    "Run to fetch all sync tasks in the last 48 hours"
   ]
  },
  {
   "cell_type": "code",
   "execution_count": null,
   "metadata": {
    "hidden": true
   },
   "outputs": [],
   "source": [
    "alm_sync_url = f'https://api.anaplan.com/2/0/models/{prod_model}/alm/syncTasks'\n",
    "\n",
    "header = {'Authorization' : auth,\n",
    "          'Content-Type' : 'application/json'\n",
    "         }\n",
    "\n",
    "request = requests.get(alm_sync_url, headers = header)\n",
    "f = json.loads(request.text)\n",
    "print(f['tasks'])"
   ]
  },
  {
   "cell_type": "markdown",
   "metadata": {
    "hidden": true
   },
   "source": [
    "### 8. Create a Revision Tag"
   ]
  },
  {
   "cell_type": "markdown",
   "metadata": {
    "hidden": true
   },
   "source": [
    "Create a revision tag in the dev model with name and description"
   ]
  },
  {
   "cell_type": "code",
   "execution_count": null,
   "metadata": {
    "hidden": true,
    "scrolled": true
   },
   "outputs": [],
   "source": [
    "alm_sync_url = f'https://api.anaplan.com/2/0/models/{dev_model}/alm/revisions'\n",
    "header = {'Authorization' : auth,\n",
    "         'Content-Type' : 'application/json'\n",
    "         }\n",
    "\n",
    "# Fill in the details of the name of RT and its description here\n",
    "body = {\n",
    "  \"name\": \"RT from API\",\n",
    "  \"description\": \"Test\"\n",
    "        }\n",
    "\n",
    "request = requests.post(alm_sync_url, headers = header, json = body)\n",
    "print(request.text)\n",
    "\n",
    "f = json.loads(request.text)\n"
   ]
  },
  {
   "cell_type": "markdown",
   "metadata": {
    "hidden": true
   },
   "source": [
    "### 9. Get all Revisions"
   ]
  },
  {
   "cell_type": "markdown",
   "metadata": {
    "hidden": true
   },
   "source": [
    "Get all the revision tags in the dev model"
   ]
  },
  {
   "cell_type": "code",
   "execution_count": null,
   "metadata": {
    "hidden": true
   },
   "outputs": [],
   "source": [
    "alm_sync_url = f'https://api.anaplan.com/2/0/models/{dev_model}/alm/revisions'\n",
    "\n",
    "header = {'Authorization' : auth,\n",
    "          'Content-Type' : 'application/json'\n",
    "         }\n",
    "\n",
    "request = requests.get(alm_sync_url, headers = header)\n",
    "f = json.loads(request.text)\n",
    "print(f['revisions'])"
   ]
  },
  {
   "cell_type": "markdown",
   "metadata": {
    "hidden": true
   },
   "source": [
    "### 10. View which Revision was applied to which models"
   ]
  },
  {
   "cell_type": "markdown",
   "metadata": {
    "hidden": true
   },
   "source": [
    "Run this to see if a given RT was applied to a model. Note the appliedMethod in json object for special details. This call returns both the dev model and the prod model details along with timestamps of the sync"
   ]
  },
  {
   "cell_type": "code",
   "execution_count": null,
   "metadata": {
    "hidden": true
   },
   "outputs": [],
   "source": [
    "rt_id = ''\n",
    "alm_sync_url = f'https://api.anaplan.com/2/0/models/{dev_model}/alm/revisions/{rt_id}/appliedToModels'\n",
    "\n",
    "header = {'Authorization' : auth,\n",
    "          'Content-Type' : 'application/json'\n",
    "         }\n",
    "\n",
    "request = requests.get(alm_sync_url, headers = header)\n",
    "f = json.loads(request.text)\n",
    "print(f['appliedToModels'])"
   ]
  },
  {
   "cell_type": "markdown",
   "metadata": {
    "hidden": true
   },
   "source": [
    "### 11. Create Summary/Full Comparison Report"
   ]
  },
  {
   "cell_type": "markdown",
   "metadata": {
    "hidden": true
   },
   "source": [
    "Create a task to compare RTs and receive either a full or summary report. The word 'compare' will generate the full list of differences. Summary will only provide the summary. In both cases the result is same as Anaplan's front end result"
   ]
  },
  {
   "cell_type": "code",
   "execution_count": null,
   "metadata": {
    "hidden": true,
    "scrolled": true
   },
   "outputs": [],
   "source": [
    "# Uncomment the type of comparison you want. The next 3 requests will follow this type\n",
    "\n",
    "# compare_type = 'comparison'\n",
    "compare_type = 'summary'\n",
    "\n",
    "source_id = ''\n",
    "target_id = ''\n",
    "\n",
    "alm_sync_url = f'https://api.anaplan.com/2/0/models/{dev_model}/alm/{compare_type}ReportTasks'\n",
    "header = {'Authorization' : auth,\n",
    "         'Content-Type' : 'application/json'\n",
    "         }\n",
    "\n",
    "body = {\n",
    "      \"sourceRevisionId\": f\"{source_id}\",\n",
    "      \"sourceModelId\": f\"{dev_model}\",\n",
    "      \"targetRevisionId\": f\"{target_id}\"\n",
    "        }\n",
    "\n",
    "request = requests.post(alm_sync_url, headers = header, json = body)\n",
    "print(request.text)\n",
    "\n",
    "f = json.loads(request.text)\n",
    "task_id = f['task']['taskId']\n",
    "\n",
    "print(task_id)"
   ]
  },
  {
   "cell_type": "markdown",
   "metadata": {
    "hidden": true
   },
   "source": [
    "### 12. Check status of the generated report with given Task ID"
   ]
  },
  {
   "cell_type": "markdown",
   "metadata": {
    "hidden": true
   },
   "source": [
    "Specify a particular task and view its current status"
   ]
  },
  {
   "cell_type": "code",
   "execution_count": null,
   "metadata": {
    "hidden": true
   },
   "outputs": [],
   "source": [
    "alm_sync_url = f'https://api.anaplan.com/2/0/models/{dev_model}/alm/{compare_type}ReportTasks/{task_id}'\n",
    "\n",
    "header = {'Authorization' : auth\n",
    "         }\n",
    "\n",
    "request = requests.get(alm_sync_url, headers = header, json = body)\n",
    "print(request.text)\n",
    "f = json.loads(request.text)\n",
    "\n",
    "sync_bool = f['task']['result']['successful']\n",
    "\n",
    "if sync_bool == True:\n",
    "    print('Successfully generated')\n",
    "else:\n",
    "    print('Encountered error:\\n')\n",
    "    print({f['task']['result']['error']['messageText']})\n",
    "    print({f['task']['result']['error']['messageText']})"
   ]
  },
  {
   "cell_type": "markdown",
   "metadata": {
    "hidden": true
   },
   "source": [
    "### 13. View the generated comparison report"
   ]
  },
  {
   "cell_type": "markdown",
   "metadata": {
    "hidden": true
   },
   "source": [
    "Identical to Anaplan front end"
   ]
  },
  {
   "cell_type": "code",
   "execution_count": null,
   "metadata": {
    "hidden": true
   },
   "outputs": [],
   "source": [
    "alm_sync_url = f'https://api.anaplan.com/2/0/models/{dev_model}/alm/{compare_type}Reports/{target_id}/{source_id}'\n",
    "\n",
    "header = {'Authorization' : auth,\n",
    "          'Content-Type' : 'application/json'\n",
    "         }\n",
    "\n",
    "request = requests.get(alm_sync_url, headers = header)\n",
    "print(request.text)"
   ]
  }
 ],
 "metadata": {
  "kernelspec": {
   "display_name": "Python 3 (ipykernel)",
   "language": "python",
   "name": "python3"
  },
  "language_info": {
   "codemirror_mode": {
    "name": "ipython",
    "version": 3
   },
   "file_extension": ".py",
   "mimetype": "text/x-python",
   "name": "python",
   "nbconvert_exporter": "python",
   "pygments_lexer": "ipython3",
   "version": "3.10.8"
  },
  "vscode": {
   "interpreter": {
    "hash": "aee8b7b246df8f9039afb4144a1f6fd8d2ca17a180786b69acc140d282b71a49"
   }
  }
 },
 "nbformat": 4,
 "nbformat_minor": 4
}
