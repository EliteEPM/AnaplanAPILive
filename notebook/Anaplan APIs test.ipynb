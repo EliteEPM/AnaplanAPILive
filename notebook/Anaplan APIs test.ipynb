{
 "cells": [
  {
   "cell_type": "markdown",
   "metadata": {},
   "source": [
    "# Anaplan 2.0 API requests"
   ]
  },
  {
   "cell_type": "markdown",
   "metadata": {},
   "source": [
    "## SECTION I: Authentication and OAuth 2.0 API  \n",
    "[Official Documentation Link for Authentication](https://anaplanauthentication.docs.apiary.io/)  \n",
    "[Official Documentation Link for OAuth 2.0](https://anaplanoauth2service.docs.apiary.io)"
   ]
  },
  {
   "cell_type": "markdown",
   "metadata": {
    "heading_collapsed": true
   },
   "source": [
    "#### Expand this to view decision flow for Authentication Type"
   ]
  },
  {
   "cell_type": "markdown",
   "metadata": {
    "hidden": true
   },
   "source": [
    "![Alt text](notebook_images/Anaplan_Authentication_Flow_2_50.png)"
   ]
  },
  {
   "cell_type": "markdown",
   "metadata": {
    "heading_collapsed": true
   },
   "source": [
    "### 1. Basic Authentication"
   ]
  },
  {
   "cell_type": "markdown",
   "metadata": {
    "hidden": true
   },
   "source": [
    "Store credentials in a text file. Credentials format should be username:password  \n",
    "Use this for basic authentication"
   ]
  },
  {
   "cell_type": "markdown",
   "metadata": {
    "heading_collapsed": true,
    "hidden": true
   },
   "source": [
    "#### Load Credentials"
   ]
  },
  {
   "cell_type": "code",
   "execution_count": 1,
   "metadata": {
    "hidden": true
   },
   "outputs": [
    {
     "name": "stdout",
     "output_type": "stream",
     "text": [
      "↓↓ Ready ↓↓\n"
     ]
    }
   ],
   "source": [
    "c = open(\"credentials.txt\",'r',newline=None)\n",
    "r = c.readlines()\n",
    "fullCreds = r[0]\n",
    "username = fullCreds[0:(fullCreds.find(':'))]\n",
    "print(\"↓↓ Ready ↓↓\")"
   ]
  },
  {
   "cell_type": "markdown",
   "metadata": {
    "heading_collapsed": true,
    "hidden": true
   },
   "source": [
    "#### Ready and validate credentials - Basic"
   ]
  },
  {
   "cell_type": "code",
   "execution_count": null,
   "metadata": {
    "hidden": true
   },
   "outputs": [],
   "source": [
    "import base64\n",
    "import requests\n",
    "import json\n",
    "\n",
    "# API v2.0 steps are:\n",
    "# 1. encode b64 string of \"Basic username:password\"\n",
    "# 2. pass 1. to auth.anaplan.com to get auth token\n",
    "# 3. token is generated in json under tokenInfo -> tokenValue\n",
    "# 4. Authorization header is ready; 'AnaplanAuthToken tokenValue'\n",
    "# 5. Validate auth\n",
    "\n",
    "cred_string = {'Authorization':'Basic ' + base64.b64encode((fullCreds).encode('utf-8')).decode('utf-8')}\n",
    "print(cred_string)\n",
    "print(\"↓↓ Passing to receive token ↓↓\")\n",
    "\n",
    "#Fetch token\n",
    "\n",
    "fetchToken_url = 'https://auth.anaplan.com/token/authenticate'\n",
    "request = requests.post(fetchToken_url, headers=cred_string)\n",
    "fullTokenjson = json.loads(request.text)\n",
    "write = request.text\n",
    "auth = 'AnaplanAuthToken ' + fullTokenjson['tokenInfo']['tokenValue']\n",
    "print(auth)\n",
    "print(\"↓↓ Checking validity ↓↓\")\n",
    "\n",
    "#Check token validity\n",
    "\n",
    "# auth = 'AnaplanAuthToken ' + 'cDfFJmexoJGWIAUUiglXnw==.nLc0Swhqxr5qxqau+LsSYXT5yXlMEJ/S97vpdE+jmZ4WS+h/63X8j5/VeMXwFmtsAxpuUWFTEjD/M9ue3If5ozw0wR71BRMsFN8z8UgnfHZu/XOPaFBbS3opNyVvWZKYINys4ePvBqT70alq7DTv+oSOfrMZUqFSaDpdZGxy8nXu4OuXguqvX2vPvPc+upAwo3KBbMviNiZe22wtUTWU5Ckg1qGVEiUhs6mNkWoq8V/Zte9CPjnoQq22kl5G41SlVfQpBzNxBgw24R6MXRbjSrnN2lQ86msYsNJhAK9B90kbM4XejE9rkERVwaEWviZyxkT3jqH98LVH+YkWFG9D4cHqS0ZrKYxJMsk3KaDXO34MUymFi6uVkroS3XSNlgM3an2w8pKk/axzUi0CpqxPfrUvFds67xVbBPWoVL+jzStSdmgDRRnM9k/VrUVFNNd2r7APbjRXivwIVFX2CTQFjyYOFFx50oy5FIReJVwtNRlCClGdgrL3Yl4awxN1UOTsvanl5QgOUNPB57BXX7abLKE5kkNx70fk7Neao6j7cVVz5Ic7oC9cugKHyhbDDCJ2.zEEtWXU85gUCUcgm7BRFlB8q184PyY5m/AGr9qNNIOo='\n",
    "\n",
    "validate_url = 'https://auth.anaplan.com/token/validate'\n",
    "header = {'Authorization' : auth}\n",
    "\n",
    "request = requests.get(validate_url, headers = header)\n",
    "status =json.loads(request.text)\n",
    "print(status)\n",
    "print(status['statusMessage'])"
   ]
  }
 ],
 "metadata": {
  "kernelspec": {
   "display_name": "Python 3 (ipykernel)",
   "language": "python",
   "name": "python3"
  },
  "language_info": {
   "codemirror_mode": {
    "name": "ipython",
    "version": 3
   },
   "file_extension": ".py",
   "mimetype": "text/x-python",
   "name": "python",
   "nbconvert_exporter": "python",
   "pygments_lexer": "ipython3",
   "version": "3.10.8"
  },
  "vscode": {
   "interpreter": {
    "hash": "aee8b7b246df8f9039afb4144a1f6fd8d2ca17a180786b69acc140d282b71a49"
   }
  }
 },
 "nbformat": 4,
 "nbformat_minor": 4
}
